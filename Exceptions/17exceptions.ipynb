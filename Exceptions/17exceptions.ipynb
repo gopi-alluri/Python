{
 "cells": [
  {
   "cell_type": "code",
   "execution_count": 1,
   "metadata": {},
   "outputs": [],
   "source": [
    "#exceptions\n",
    "#try ... except... else ... finally\n",
    "#try this is for computation part\n",
    "#except => it is for handling exceptions\n",
    "#else ==> if try is true .. then go to else part\n",
    "#finally ==>\n",
    "#case1: if i am providing all valid values . try ..else .. finally\n",
    "#case2: if i am providing invalid values => handled by exceptions .. try ..except .. finally\n",
    "#case3: if i am providing invalid values .. not handled y exceptions try ... finally .. exception"
   ]
  },
  {
   "cell_type": "raw",
   "metadata": {},
   "source": [
    "#exception : syntax\n",
    "try:\n",
    "    -----------\n",
    "    -----------\n",
    "except(er1,er2,er3....):\n",
    "    -------------\n",
    "    -------------\n",
    "else:\n",
    "    -------------\n",
    "    -------------\n",
    "finally:\n",
    "    -------------\n",
    "    -------------"
   ]
  },
  {
   "cell_type": "raw",
   "metadata": {},
   "source": [
    "#exception : case1 : Error is existed\n",
    "try:\n",
    "    ----*------- # Er1\n",
    "    -----------\n",
    "except(er1,er2,er3....):\n",
    "    -------------\n",
    "    -------------\n",
    "finally:\n",
    "    -------------\n",
    "    -------------"
   ]
  },
  {
   "cell_type": "raw",
   "metadata": {},
   "source": [
    "#exception : case2 : No error\n",
    "try:\n",
    "    -----------\n",
    "    -----------\n",
    "else:\n",
    "    -------------\n",
    "    -------------\n",
    "finally:\n",
    "    -------------\n",
    "    -------------"
   ]
  },
  {
   "cell_type": "raw",
   "metadata": {},
   "source": [
    "#exception : Error is existed but no handler mentioned in exception part\n",
    "try:\n",
    "    ------*----- # Er10\n",
    "    -----------\n",
    "finally:\n",
    "    -------------\n",
    "    -------------"
   ]
  },
  {
   "cell_type": "code",
   "execution_count": 1,
   "metadata": {},
   "outputs": [
    {
     "name": "stdout",
     "output_type": "stream",
     "text": [
      "['ArithmeticError', 'AssertionError', 'AttributeError', 'BaseException', 'BlockingIOError', 'BrokenPipeError', 'BufferError', 'BytesWarning', 'ChildProcessError', 'ConnectionAbortedError', 'ConnectionError', 'ConnectionRefusedError', 'ConnectionResetError', 'DeprecationWarning', 'EOFError', 'Ellipsis', 'EnvironmentError', 'Exception', 'False', 'FileExistsError', 'FileNotFoundError', 'FloatingPointError', 'FutureWarning', 'GeneratorExit', 'IOError', 'ImportError', 'ImportWarning', 'IndentationError', 'IndexError', 'InterruptedError', 'IsADirectoryError', 'KeyError', 'KeyboardInterrupt', 'LookupError', 'MemoryError', 'ModuleNotFoundError', 'NameError', 'None', 'NotADirectoryError', 'NotImplemented', 'NotImplementedError', 'OSError', 'OverflowError', 'PendingDeprecationWarning', 'PermissionError', 'ProcessLookupError', 'RecursionError', 'ReferenceError', 'ResourceWarning', 'RuntimeError', 'RuntimeWarning', 'StopAsyncIteration', 'StopIteration', 'SyntaxError', 'SyntaxWarning', 'SystemError', 'SystemExit', 'TabError', 'TimeoutError', 'True', 'TypeError', 'UnboundLocalError', 'UnicodeDecodeError', 'UnicodeEncodeError', 'UnicodeError', 'UnicodeTranslateError', 'UnicodeWarning', 'UserWarning', 'ValueError', 'Warning', 'WindowsError', 'ZeroDivisionError', '__IPYTHON__', '__build_class__', '__debug__', '__doc__', '__import__', '__loader__', '__name__', '__package__', '__spec__', 'abs', 'all', 'any', 'ascii', 'bin', 'bool', 'breakpoint', 'bytearray', 'bytes', 'callable', 'chr', 'classmethod', 'compile', 'complex', 'copyright', 'credits', 'delattr', 'dict', 'dir', 'display', 'divmod', 'enumerate', 'eval', 'exec', 'filter', 'float', 'format', 'frozenset', 'get_ipython', 'getattr', 'globals', 'hasattr', 'hash', 'help', 'hex', 'id', 'input', 'int', 'isinstance', 'issubclass', 'iter', 'len', 'license', 'list', 'locals', 'map', 'max', 'memoryview', 'min', 'next', 'object', 'oct', 'open', 'ord', 'pow', 'print', 'property', 'range', 'repr', 'reversed', 'round', 'set', 'setattr', 'slice', 'sorted', 'staticmethod', 'str', 'sum', 'super', 'tuple', 'type', 'vars', 'zip']\n"
     ]
    }
   ],
   "source": [
    "#import exceptions\n",
    "import builtins\n",
    "print(dir(builtins))"
   ]
  },
  {
   "cell_type": "code",
   "execution_count": 2,
   "metadata": {},
   "outputs": [
    {
     "ename": "TypeError",
     "evalue": "can only concatenate str (not \"int\") to str",
     "output_type": "error",
     "traceback": [
      "\u001b[1;31m---------------------------------------------------------------------------\u001b[0m",
      "\u001b[1;31mTypeError\u001b[0m                                 Traceback (most recent call last)",
      "\u001b[1;32m<ipython-input-2-ab276074a83b>\u001b[0m in \u001b[0;36m<module>\u001b[1;34m\u001b[0m\n\u001b[0;32m      1\u001b[0m \u001b[1;31m# Error Code\u001b[0m\u001b[1;33m\u001b[0m\u001b[1;33m\u001b[0m\u001b[1;33m\u001b[0m\u001b[0m\n\u001b[1;32m----> 2\u001b[1;33m \u001b[0mprint\u001b[0m\u001b[1;33m(\u001b[0m\u001b[1;34m'hi'\u001b[0m\u001b[1;33m+\u001b[0m\u001b[1;36m1\u001b[0m\u001b[1;33m)\u001b[0m\u001b[1;33m\u001b[0m\u001b[1;33m\u001b[0m\u001b[0m\n\u001b[0m",
      "\u001b[1;31mTypeError\u001b[0m: can only concatenate str (not \"int\") to str"
     ]
    }
   ],
   "source": [
    "# Error Code\n",
    "print('hi'+1)"
   ]
  },
  {
   "cell_type": "code",
   "execution_count": 3,
   "metadata": {},
   "outputs": [
    {
     "name": "stdout",
     "output_type": "stream",
     "text": [
      "Both should be Int or Str\n",
      "Done\n"
     ]
    }
   ],
   "source": [
    "# Exception code\n",
    "try:\n",
    "    print(1+\"Hi\")\n",
    "except TypeError:\n",
    "    print(\"Both should be Int or Str\") \n",
    "else:\n",
    "    print(\"OK\")\n",
    "finally:\n",
    "    print(\"Done\")"
   ]
  },
  {
   "cell_type": "code",
   "execution_count": 6,
   "metadata": {},
   "outputs": [
    {
     "name": "stdout",
     "output_type": "stream",
     "text": [
      "Enter a value for A=100\n",
      "Enter a value for B=b\n"
     ]
    },
    {
     "ename": "ValueError",
     "evalue": "invalid literal for int() with base 10: 'b'",
     "output_type": "error",
     "traceback": [
      "\u001b[1;31m---------------------------------------------------------------------------\u001b[0m",
      "\u001b[1;31mValueError\u001b[0m                                Traceback (most recent call last)",
      "\u001b[1;32m<ipython-input-6-8562b4f9ce0a>\u001b[0m in \u001b[0;36m<module>\u001b[1;34m\u001b[0m\n\u001b[0;32m      1\u001b[0m \u001b[1;31m# Error code\u001b[0m\u001b[1;33m\u001b[0m\u001b[1;33m\u001b[0m\u001b[1;33m\u001b[0m\u001b[0m\n\u001b[0;32m      2\u001b[0m \u001b[0ma\u001b[0m\u001b[1;33m=\u001b[0m\u001b[0mint\u001b[0m\u001b[1;33m(\u001b[0m\u001b[0minput\u001b[0m\u001b[1;33m(\u001b[0m\u001b[1;34m\"Enter a value for A=\"\u001b[0m\u001b[1;33m)\u001b[0m\u001b[1;33m)\u001b[0m\u001b[1;33m\u001b[0m\u001b[1;33m\u001b[0m\u001b[0m\n\u001b[1;32m----> 3\u001b[1;33m \u001b[0mb\u001b[0m\u001b[1;33m=\u001b[0m\u001b[0mint\u001b[0m\u001b[1;33m(\u001b[0m\u001b[0minput\u001b[0m\u001b[1;33m(\u001b[0m\u001b[1;34m\"Enter a value for B=\"\u001b[0m\u001b[1;33m)\u001b[0m\u001b[1;33m)\u001b[0m\u001b[1;33m\u001b[0m\u001b[1;33m\u001b[0m\u001b[0m\n\u001b[0m\u001b[0;32m      4\u001b[0m \u001b[0mc\u001b[0m\u001b[1;33m=\u001b[0m\u001b[0ma\u001b[0m\u001b[1;33m+\u001b[0m\u001b[0mb\u001b[0m\u001b[1;33m\u001b[0m\u001b[1;33m\u001b[0m\u001b[0m\n\u001b[0;32m      5\u001b[0m \u001b[0mprint\u001b[0m\u001b[1;33m(\u001b[0m\u001b[0mc\u001b[0m\u001b[1;33m)\u001b[0m\u001b[1;33m\u001b[0m\u001b[1;33m\u001b[0m\u001b[0m\n",
      "\u001b[1;31mValueError\u001b[0m: invalid literal for int() with base 10: 'b'"
     ]
    }
   ],
   "source": [
    "# Error code\n",
    "a=int(input(\"Enter a value for A=\"))\n",
    "b=int(input(\"Enter a value for B=\"))\n",
    "c=a+b\n",
    "print(c)"
   ]
  },
  {
   "cell_type": "code",
   "execution_count": 11,
   "metadata": {},
   "outputs": [
    {
     "name": "stdout",
     "output_type": "stream",
     "text": [
      "Enter a value for A::100\n",
      "Enter a value for B::w\n",
      "Programme executed successfully\n"
     ]
    },
    {
     "ename": "ValueError",
     "evalue": "invalid literal for int() with base 10: 'w'",
     "output_type": "error",
     "traceback": [
      "\u001b[1;31m---------------------------------------------------------------------------\u001b[0m",
      "\u001b[1;31mValueError\u001b[0m                                Traceback (most recent call last)",
      "\u001b[1;32m<ipython-input-11-2202e7b77432>\u001b[0m in \u001b[0;36m<module>\u001b[1;34m\u001b[0m\n\u001b[0;32m      1\u001b[0m \u001b[1;32mtry\u001b[0m\u001b[1;33m:\u001b[0m\u001b[1;33m\u001b[0m\u001b[1;33m\u001b[0m\u001b[0m\n\u001b[0;32m      2\u001b[0m     \u001b[0ma\u001b[0m\u001b[1;33m=\u001b[0m\u001b[0minput\u001b[0m\u001b[1;33m(\u001b[0m\u001b[1;34m\"Enter a value for A::\"\u001b[0m\u001b[1;33m)\u001b[0m\u001b[1;33m\u001b[0m\u001b[1;33m\u001b[0m\u001b[0m\n\u001b[1;32m----> 3\u001b[1;33m     \u001b[0mb\u001b[0m\u001b[1;33m=\u001b[0m\u001b[0mint\u001b[0m\u001b[1;33m(\u001b[0m\u001b[0minput\u001b[0m\u001b[1;33m(\u001b[0m\u001b[1;34m\"Enter a value for B::\"\u001b[0m\u001b[1;33m)\u001b[0m\u001b[1;33m)\u001b[0m\u001b[1;33m\u001b[0m\u001b[1;33m\u001b[0m\u001b[0m\n\u001b[0m\u001b[0;32m      4\u001b[0m     \u001b[0mc\u001b[0m\u001b[1;33m=\u001b[0m\u001b[0ma\u001b[0m\u001b[1;33m+\u001b[0m\u001b[0mb\u001b[0m\u001b[1;33m\u001b[0m\u001b[1;33m\u001b[0m\u001b[0m\n\u001b[0;32m      5\u001b[0m \u001b[1;32mexcept\u001b[0m\u001b[1;33m(\u001b[0m\u001b[0mTypeError\u001b[0m\u001b[1;33m)\u001b[0m\u001b[1;33m:\u001b[0m\u001b[1;33m\u001b[0m\u001b[1;33m\u001b[0m\u001b[0m\n",
      "\u001b[1;31mValueError\u001b[0m: invalid literal for int() with base 10: 'w'"
     ]
    }
   ],
   "source": [
    "try:\n",
    "    a=input(\"Enter a value for A::\")\n",
    "    b=int(input(\"Enter a value for B::\"))\n",
    "    c=a+b\n",
    "except(TypeError):\n",
    "    print (\"Both should be Numerics\")\n",
    "else:\n",
    "    print (c)\n",
    "finally:\n",
    "    print (\"Programme executed successfully\")"
   ]
  },
  {
   "cell_type": "code",
   "execution_count": 12,
   "metadata": {},
   "outputs": [
    {
     "name": "stdout",
     "output_type": "stream",
     "text": [
      "Enter a value for A::100\n",
      "Enter a value for B::299\n",
      "399\n",
      "Programme executed successfully\n"
     ]
    }
   ],
   "source": [
    "try:\n",
    "    a=int(input(\"Enter a value for A::\"))\n",
    "    b=int(input(\"Enter a value for B::\"))\n",
    "    c=a+b\n",
    "except(TypeError):\n",
    "    print (\"Both should be Numerics\")\n",
    "except(ValueError):\n",
    "    print (\"Both should be Numerics\")\n",
    "else:\n",
    "    print (c)\n",
    "finally:\n",
    "    print (\"Programme executed successfully\")"
   ]
  },
  {
   "cell_type": "code",
   "execution_count": 6,
   "metadata": {},
   "outputs": [
    {
     "name": "stdout",
     "output_type": "stream",
     "text": [
      "Enter a value for A::raju\n",
      "Enter a value for B::raju\n",
      "Programme executed successfully\n"
     ]
    },
    {
     "ename": "ValueError",
     "evalue": "invalid literal for int() with base 10: 'raju'",
     "output_type": "error",
     "traceback": [
      "\u001b[1;31m--------------------------------------------------------\u001b[0m",
      "\u001b[1;31mValueError\u001b[0m             Traceback (most recent call last)",
      "\u001b[1;32m<ipython-input-6-e1830f69b691>\u001b[0m in \u001b[0;36m<module>\u001b[1;34m\u001b[0m\n\u001b[0;32m      2\u001b[0m \u001b[0mb\u001b[0m\u001b[1;33m=\u001b[0m\u001b[0minput\u001b[0m\u001b[1;33m(\u001b[0m\u001b[1;34m\"Enter a value for B::\"\u001b[0m\u001b[1;33m)\u001b[0m\u001b[1;33m\u001b[0m\u001b[1;33m\u001b[0m\u001b[0m\n\u001b[0;32m      3\u001b[0m \u001b[1;32mtry\u001b[0m\u001b[1;33m:\u001b[0m\u001b[1;33m\u001b[0m\u001b[1;33m\u001b[0m\u001b[0m\n\u001b[1;32m----> 4\u001b[1;33m     \u001b[0mx\u001b[0m\u001b[1;33m=\u001b[0m\u001b[0mint\u001b[0m\u001b[1;33m(\u001b[0m\u001b[0ma\u001b[0m\u001b[1;33m)\u001b[0m\u001b[1;33m+\u001b[0m\u001b[0mint\u001b[0m\u001b[1;33m(\u001b[0m\u001b[0mb\u001b[0m\u001b[1;33m)\u001b[0m\u001b[1;33m\u001b[0m\u001b[1;33m\u001b[0m\u001b[0m\n\u001b[0m\u001b[0;32m      5\u001b[0m \u001b[1;32mexcept\u001b[0m\u001b[1;33m(\u001b[0m\u001b[0mTypeError\u001b[0m\u001b[1;33m)\u001b[0m\u001b[1;33m:\u001b[0m\u001b[1;33m\u001b[0m\u001b[1;33m\u001b[0m\u001b[0m\n\u001b[0;32m      6\u001b[0m     \u001b[0mprint\u001b[0m \u001b[1;33m(\u001b[0m\u001b[1;34m\"Both should be Numerics\"\u001b[0m\u001b[1;33m)\u001b[0m\u001b[1;33m\u001b[0m\u001b[1;33m\u001b[0m\u001b[0m\n",
      "\u001b[1;31mValueError\u001b[0m: invalid literal for int() with base 10: 'raju'"
     ]
    }
   ],
   "source": [
    "a=input(\"Enter a value for A::\")\n",
    "b=input(\"Enter a value for B::\")\n",
    "try:\n",
    "    x=int(a)+int(b)\n",
    "except(TypeError):\n",
    "    print (\"Both should be Numerics\")\n",
    "else:\n",
    "    print (x)\n",
    "finally:\n",
    "    print (\"Programme executed successfully\")"
   ]
  },
  {
   "cell_type": "code",
   "execution_count": 9,
   "metadata": {},
   "outputs": [
    {
     "name": "stdout",
     "output_type": "stream",
     "text": [
      "Both should be Numerics\n",
      "Programme executed successfully\n"
     ]
    }
   ],
   "source": [
    "a=\"100\"\n",
    "b=\"A\"\n",
    "try:\n",
    "    #a=int(input(\"Enter a value for A::\"))\n",
    "    #b=int(input(\"Enter a value for B::\"))\n",
    "    x=int(a)+int(b)\n",
    "except(TypeError,ValueError):\n",
    "    print (\"Both should be Numerics\")\n",
    "else:\n",
    "    print (x)\n",
    "finally:\n",
    "    print (\"Programme executed successfully\")"
   ]
  },
  {
   "cell_type": "code",
   "execution_count": 10,
   "metadata": {},
   "outputs": [
    {
     "name": "stdout",
     "output_type": "stream",
     "text": [
      "Both should be Numerics\n",
      "Programme executed successfully\n"
     ]
    }
   ],
   "source": [
    "#a=int(input(\"Enter a value for A::\"))\n",
    "#b=int(input(\"Enter a value for B::\"))\n",
    "a=10\n",
    "b=\"A\"\n",
    "try:\n",
    "    x=a+b\n",
    "except(TypeError):\n",
    "    print (\"Both should be Numerics\")\n",
    "except(ValueError):\n",
    "    print (\"Strings are not allowed\")\n",
    "else:\n",
    "    print (x)\n",
    "finally:\n",
    "    print (\"Programme executed successfully\")"
   ]
  },
  {
   "cell_type": "code",
   "execution_count": 11,
   "metadata": {},
   "outputs": [
    {
     "name": "stdout",
     "output_type": "stream",
     "text": [
      "Enter a value for A::k\n",
      "Strings are not allowed\n",
      "Programme executed successfully\n"
     ]
    }
   ],
   "source": [
    "try:\n",
    "    a=int(input(\"Enter a value for A::\"))\n",
    "    b=input(\"Enter a value for B::\")\n",
    "    x=a+b\n",
    "except(TypeError):\n",
    "    print (\"Both should be Numerics\")\n",
    "except(ValueError):\n",
    "    print (\"Strings are not allowed\")\n",
    "else:\n",
    "    print (x)\n",
    "finally:\n",
    "    print (\"Programme executed successfully\")"
   ]
  },
  {
   "cell_type": "code",
   "execution_count": 13,
   "metadata": {},
   "outputs": [],
   "source": [
    "D1={'a':'apple','b':'banana'}"
   ]
  },
  {
   "cell_type": "code",
   "execution_count": 15,
   "metadata": {},
   "outputs": [
    {
     "name": "stdout",
     "output_type": "stream",
     "text": [
      "apple\n"
     ]
    },
    {
     "ename": "KeyError",
     "evalue": "'c'",
     "output_type": "error",
     "traceback": [
      "\u001b[1;31m---------------------------------------------------------------------------\u001b[0m",
      "\u001b[1;31mKeyError\u001b[0m                                  Traceback (most recent call last)",
      "\u001b[1;32m<ipython-input-15-9af9075dc049>\u001b[0m in \u001b[0;36m<module>\u001b[1;34m\u001b[0m\n\u001b[0;32m      1\u001b[0m \u001b[1;31m#Error code\u001b[0m\u001b[1;33m\u001b[0m\u001b[1;33m\u001b[0m\u001b[1;33m\u001b[0m\u001b[0m\n\u001b[0;32m      2\u001b[0m \u001b[0mprint\u001b[0m\u001b[1;33m(\u001b[0m\u001b[0mD1\u001b[0m\u001b[1;33m[\u001b[0m\u001b[1;34m'a'\u001b[0m\u001b[1;33m]\u001b[0m\u001b[1;33m)\u001b[0m\u001b[1;33m\u001b[0m\u001b[1;33m\u001b[0m\u001b[0m\n\u001b[1;32m----> 3\u001b[1;33m \u001b[0mprint\u001b[0m\u001b[1;33m(\u001b[0m\u001b[0mD1\u001b[0m\u001b[1;33m[\u001b[0m\u001b[1;34m'c'\u001b[0m\u001b[1;33m]\u001b[0m\u001b[1;33m)\u001b[0m\u001b[1;33m\u001b[0m\u001b[1;33m\u001b[0m\u001b[0m\n\u001b[0m",
      "\u001b[1;31mKeyError\u001b[0m: 'c'"
     ]
    }
   ],
   "source": [
    "#Error code\n",
    "print(D1['a'])\n",
    "print(D1['c'])"
   ]
  },
  {
   "cell_type": "code",
   "execution_count": 60,
   "metadata": {},
   "outputs": [
    {
     "name": "stdout",
     "output_type": "stream",
     "text": [
      "Enter key of dictionary=a\n",
      "Given key value is apple\n",
      "Executed successfully\n"
     ]
    }
   ],
   "source": [
    "try:\n",
    "    key=input(\"Enter key of dictionary=\")\n",
    "    value=D1[key]\n",
    "except(ValueError):\n",
    "    print(\"Given key is not existed\")\n",
    "else:\n",
    "    print(\"Given key value is\",value)\n",
    "finally:\n",
    "    print(\"Executed successfully\")"
   ]
  },
  {
   "cell_type": "code",
   "execution_count": null,
   "metadata": {},
   "outputs": [],
   "source": []
  },
  {
   "cell_type": "code",
   "execution_count": null,
   "metadata": {},
   "outputs": [],
   "source": []
  },
  {
   "cell_type": "code",
   "execution_count": 12,
   "metadata": {},
   "outputs": [],
   "source": [
    "bank={100001:[\"raju\",\"raju@gmail.com\",9878787677,500]}"
   ]
  },
  {
   "cell_type": "code",
   "execution_count": 15,
   "metadata": {},
   "outputs": [
    {
     "name": "stdout",
     "output_type": "stream",
     "text": [
      "enter aaccount number=100002\n",
      "Invlid account Number\n",
      "Blocked for 10 min\n",
      "enter aaccount number=ramesh\n",
      "please enter number for accout number\n",
      "Blocked for 10 min\n",
      "enter aaccount number=100001\n",
      "['raju', 'raju@gmail.com', 9878787677, 500]\n",
      "Blocked for 10 min\n"
     ]
    }
   ],
   "source": [
    "#Exception code for KeyError,ValueError(100002,raju,100001)\n",
    "cnt=0\n",
    "import time\n",
    "while True:\n",
    "    try:\n",
    "        accno=int(input(\"enter aaccount number=\"))\n",
    "        account_details=bank[accno]\n",
    "        cnt+=1\n",
    "        if cnt>3:\n",
    "            break\n",
    "    except(ValueError):\n",
    "        print(\"please enter number for accout number\")\n",
    "    except(KeyError):\n",
    "        print(\"Invlid account Number\")\n",
    "    else:\n",
    "        print(account_details)\n",
    "        break\n",
    "    finally:\n",
    "        print(\"Blocked for 5 sec\")\n",
    "        time.sleep(5)"
   ]
  },
  {
   "cell_type": "code",
   "execution_count": 12,
   "metadata": {},
   "outputs": [
    {
     "name": "stdout",
     "output_type": "stream",
     "text": [
      "Please Enter a value for N1:8\n",
      "Please Enter a value for N2:0\n"
     ]
    },
    {
     "ename": "ZeroDivisionError",
     "evalue": "division by zero",
     "output_type": "error",
     "traceback": [
      "\u001b[1;31m---------------------------------------------------------------------------\u001b[0m",
      "\u001b[1;31mZeroDivisionError\u001b[0m                         Traceback (most recent call last)",
      "\u001b[1;32m<ipython-input-12-4fb940fc6185>\u001b[0m in \u001b[0;36m<module>\u001b[1;34m()\u001b[0m\n\u001b[0;32m      1\u001b[0m \u001b[0mn1\u001b[0m \u001b[1;33m=\u001b[0m \u001b[0mint\u001b[0m\u001b[1;33m(\u001b[0m\u001b[0minput\u001b[0m\u001b[1;33m(\u001b[0m\u001b[1;34m\"Please Enter a value for N1:\"\u001b[0m\u001b[1;33m)\u001b[0m\u001b[1;33m)\u001b[0m\u001b[1;33m\u001b[0m\u001b[0m\n\u001b[0;32m      2\u001b[0m \u001b[0mn2\u001b[0m \u001b[1;33m=\u001b[0m \u001b[0mint\u001b[0m\u001b[1;33m(\u001b[0m\u001b[0minput\u001b[0m\u001b[1;33m(\u001b[0m\u001b[1;34m\"Please Enter a value for N2:\"\u001b[0m\u001b[1;33m)\u001b[0m\u001b[1;33m)\u001b[0m\u001b[1;33m\u001b[0m\u001b[0m\n\u001b[1;32m----> 3\u001b[1;33m \u001b[0mresult\u001b[0m \u001b[1;33m=\u001b[0m \u001b[0mn1\u001b[0m\u001b[1;33m/\u001b[0m\u001b[0mn2\u001b[0m\u001b[1;33m\u001b[0m\u001b[0m\n\u001b[0m\u001b[0;32m      4\u001b[0m \u001b[0mprint\u001b[0m \u001b[1;33m(\u001b[0m\u001b[1;34m\"Result of the given values is {}\"\u001b[0m\u001b[1;33m.\u001b[0m\u001b[0mformat\u001b[0m\u001b[1;33m(\u001b[0m\u001b[0mresult\u001b[0m\u001b[1;33m)\u001b[0m\u001b[1;33m)\u001b[0m\u001b[1;33m\u001b[0m\u001b[0m\n",
      "\u001b[1;31mZeroDivisionError\u001b[0m: division by zero"
     ]
    }
   ],
   "source": [
    "n1 = int(input(\"Please Enter a value for N1:\"))\n",
    "n2 = int(input(\"Please Enter a value for N2:\"))\n",
    "result = n1/n2\n",
    "print (\"Result of the given values is {}\".format(result))"
   ]
  },
  {
   "cell_type": "code",
   "execution_count": null,
   "metadata": {},
   "outputs": [],
   "source": []
  },
  {
   "cell_type": "code",
   "execution_count": 13,
   "metadata": {},
   "outputs": [
    {
     "name": "stdout",
     "output_type": "stream",
     "text": [
      "Please Enter a value for N1:8\n",
      "Please Enter a value for N2:0\n",
      "with zero division not possible\n"
     ]
    }
   ],
   "source": [
    "try:\n",
    "    n1 = int(input(\"Please Enter a value for N1:\"))\n",
    "    n2 = int(input(\"Please Enter a value for N2:\"))\n",
    "    result = n1/n2\n",
    "except (ValueError):\n",
    "    print (\"Please provide n1 and n2 as numbers\")\n",
    "except (ZeroDivisionError):\n",
    "    print(\"with zero division not possible\")\n",
    "else:\n",
    "    print (\"Result of the given values is {}\".format(result))"
   ]
  },
  {
   "cell_type": "raw",
   "metadata": {},
   "source": [
    "# raise:\n",
    "# it is used to raise an user defined exception , and it should be the part of exception part"
   ]
  },
  {
   "cell_type": "code",
   "execution_count": 49,
   "metadata": {},
   "outputs": [],
   "source": [
    "students={}\n",
    "fees={'python':8000,'java':5000,'c++':3500,'c':300}"
   ]
  },
  {
   "cell_type": "code",
   "execution_count": 56,
   "metadata": {},
   "outputs": [],
   "source": [
    "class invalidfee(Exception):\n",
    "    pass"
   ]
  },
  {
   "cell_type": "code",
   "execution_count": 48,
   "metadata": {},
   "outputs": [],
   "source": [
    "from itertools import count\n",
    "sid=count(101)"
   ]
  },
  {
   "cell_type": "code",
   "execution_count": 45,
   "metadata": {},
   "outputs": [
    {
     "name": "stdout",
     "output_type": "stream",
     "text": [
      "raju\n",
      "python\n",
      "6000\n",
      "Thanks for payment and choosing python,fee=6000,Your Due amount=2000\n"
     ]
    }
   ],
   "source": [
    "sname=input()\n",
    "course=input()\n",
    "fee=int(input())\n",
    "if course in fees:\n",
    "    if course=='python' and fee>fees[course]:\n",
    "        raise invalidfee\n",
    "    elif course=='java' and fee>fees[course]:\n",
    "        raise invalidfee\n",
    "    elif course=='c++' and fee>fees[course]:\n",
    "        raise invalidfee\n",
    "    else:\n",
    "        students.setdefault(next(sid),[sname,course,fee])\n",
    "        print(\"Thanks for payment and choosing {},fee={},Your Due amount={}\".format(course,fee,fees[course]-fee))\n",
    "        \n",
    "else:\n",
    "    print(\"Given course is not existed\")"
   ]
  },
  {
   "cell_type": "code",
   "execution_count": 54,
   "metadata": {},
   "outputs": [
    {
     "data": {
      "text/plain": [
       "{101: ['raju', 'python', 6500]}"
      ]
     },
     "execution_count": 54,
     "metadata": {},
     "output_type": "execute_result"
    }
   ],
   "source": [
    "students"
   ]
  },
  {
   "cell_type": "code",
   "execution_count": 57,
   "metadata": {},
   "outputs": [
    {
     "name": "stdout",
     "output_type": "stream",
     "text": [
      "raju\n",
      "java\n",
      "9000\n",
      "Given course fee is more than actual fee\n"
     ]
    }
   ],
   "source": [
    "sname=input()\n",
    "course=input()\n",
    "fee=int(input())\n",
    "try:\n",
    "    if course in fees and fee>fees[course]:\n",
    "        raise invalidfee\n",
    "except(invalidfee):\n",
    "    print(\"Given course fee is more than actual fee\")\n",
    "else:\n",
    "    students.setdefault(next(sid),[sname,course,fee])\n",
    "    print(\"Thanks for payment and choosing {},fee={},Your Due amount={}\".format(course,fee,fees[course]-fee))"
   ]
  },
  {
   "cell_type": "code",
   "execution_count": 58,
   "metadata": {},
   "outputs": [
    {
     "ename": "SyntaxError",
     "evalue": "invalid syntax (<ipython-input-58-fbc6bc30b5c2>, line 1)",
     "output_type": "error",
     "traceback": [
      "\u001b[1;36m  File \u001b[1;32m\"<ipython-input-58-fbc6bc30b5c2>\"\u001b[1;36m, line \u001b[1;32m1\u001b[0m\n\u001b[1;33m    raise SyntaxError,\"Hey check your program syntactically\"\u001b[0m\n\u001b[1;37m                     ^\u001b[0m\n\u001b[1;31mSyntaxError\u001b[0m\u001b[1;31m:\u001b[0m invalid syntax\n"
     ]
    }
   ],
   "source": [
    "raise SyntaxError,\"Hey check your program syntactically\""
   ]
  },
  {
   "cell_type": "code",
   "execution_count": 8,
   "metadata": {},
   "outputs": [
    {
     "name": "stdout",
     "output_type": "stream",
     "text": [
      "Enter a value for Student Name::raju\n",
      "Enter a value for Student Course::Python\n",
      "Enter a value for Course Fee::8000\n",
      "********************************\n",
      "raju\n",
      "Python\n",
      "8000\n",
      "********************************\n",
      "Programme executed successfully\n"
     ]
    }
   ],
   "source": [
    "try:\n",
    "    sname=input(\"Enter a value for Student Name::\")\n",
    "    scourse=input(\"Enter a value for Student Course::\")\n",
    "    fee=int(input(\"Enter a value for Course Fee::\"))\n",
    "    if scourse==\"Python\" and fee!=8000:\n",
    "        raise InvalidFee\n",
    "except(InvalidFee):\n",
    "    print(\"Given Course fee is not for Python\")\n",
    "else:\n",
    "        print(\"********************************\")\n",
    "        print(sname)\n",
    "        print(scourse)\n",
    "        print(fee)\n",
    "        print(\"********************************\")\n",
    "finally:\n",
    "    print(\"Programme executed successfully\")"
   ]
  },
  {
   "cell_type": "code",
   "execution_count": null,
   "metadata": {},
   "outputs": [],
   "source": []
  }
 ],
 "metadata": {
  "kernelspec": {
   "display_name": "Python 3",
   "language": "python",
   "name": "python3"
  },
  "language_info": {
   "codemirror_mode": {
    "name": "ipython",
    "version": 3
   },
   "file_extension": ".py",
   "mimetype": "text/x-python",
   "name": "python",
   "nbconvert_exporter": "python",
   "pygments_lexer": "ipython3",
   "version": "3.7.3"
  }
 },
 "nbformat": 4,
 "nbformat_minor": 1
}
