{
 "cells": [
  {
   "cell_type": "code",
   "execution_count": 1,
   "metadata": {},
   "outputs": [
    {
     "name": "stdout",
     "output_type": "stream",
     "text": [
      "Requirement already satisfied: cx_oracle in c:\\users\\agkr\\anaconda3\\lib\\site-packages (7.1.3)\n"
     ]
    }
   ],
   "source": [
    "!pip install cx_oracle"
   ]
  },
  {
   "cell_type": "code",
   "execution_count": 3,
   "metadata": {},
   "outputs": [],
   "source": [
    "import cx_Oracle"
   ]
  },
  {
   "cell_type": "raw",
   "metadata": {},
   "source": [
    "Step1: create connection\n",
    "2: create cursor using the connection\n",
    "3: Execute query using cursor\n",
    "4: get the data from the cursor\n",
    "5: process the data\n",
    "6: close cursor\n",
    "7: close connection"
   ]
  },
  {
   "cell_type": "raw",
   "metadata": {},
   "source": [
    "# open oracle command line and write below queries\n",
    "SQL>conn system/Oracle1234@XE\n",
    "SQL>create user pyuser identified by python1234;\n",
    "SQL>grant connect,resource,unlimited tablespace to pyuser\n",
    "SQL>conn pyuser/python1234@XE"
   ]
  },
  {
   "cell_type": "code",
   "execution_count": 5,
   "metadata": {},
   "outputs": [
    {
     "name": "stdout",
     "output_type": "stream",
     "text": [
      "<class 'cx_Oracle.Connection'>\n",
      "<class 'cx_Oracle.Cursor'>\n",
      "(10, 'ACCOUNTING', 'NEW YORK')\n",
      "(20, 'RESEARCH', 'DALLAS')\n",
      "(30, 'SALES', 'CHICAGO')\n",
      "(40, 'OPERATIONS', 'BOSTON')\n",
      "<class 'tuple'>\n"
     ]
    }
   ],
   "source": [
    "conn = cx_Oracle.connect(\"pyuser/python1234@XE\")\n",
    "print(type(conn))\n",
    "cur = conn.cursor()\n",
    "print(type(cur))\n",
    "cur.execute('select * from dept')\n",
    "for i in cur:\n",
    "    print(i)\n",
    "print(type(i))\n",
    "cur.close()\n",
    "conn.close()"
   ]
  },
  {
   "cell_type": "code",
   "execution_count": 6,
   "metadata": {},
   "outputs": [
    {
     "name": "stdout",
     "output_type": "stream",
     "text": [
      "[(10, 'ACCOUNTING', 'NEW YORK'), (20, 'RESEARCH', 'DALLAS'), (30, 'SALES', 'CHICAGO'), (40, 'OPERATIONS', 'BOSTON')]\n"
     ]
    }
   ],
   "source": [
    "# fetchall\n",
    "conn = cx_Oracle.connect(\"pyuser/python1234@XE\")\n",
    "cur = conn.cursor()\n",
    "cur.execute('select * from dept')\n",
    "i = cur.fetchall()\n",
    "print(i)\n",
    "cur.close()\n",
    "conn.close()"
   ]
  },
  {
   "cell_type": "code",
   "execution_count": 7,
   "metadata": {},
   "outputs": [
    {
     "name": "stdout",
     "output_type": "stream",
     "text": [
      "[(10, 'ACCOUNTING', 'NEW YORK'), (20, 'RESEARCH', 'DALLAS'), (30, 'SALES', 'CHICAGO')]\n"
     ]
    }
   ],
   "source": [
    "# fetchmany\n",
    "conn = cx_Oracle.connect(\"pyuser/python1234@XE\")\n",
    "cur = conn.cursor()\n",
    "cur.execute('select * from dept')\n",
    "i = cur.fetchmany(3)\n",
    "print(i)\n",
    "cur.close()\n",
    "conn.close()"
   ]
  },
  {
   "cell_type": "code",
   "execution_count": 8,
   "metadata": {},
   "outputs": [
    {
     "name": "stdout",
     "output_type": "stream",
     "text": [
      "(10, 'ACCOUNTING', 'NEW YORK')\n",
      "(20, 'RESEARCH', 'DALLAS')\n"
     ]
    }
   ],
   "source": [
    "# fetchone\n",
    "conn = cx_Oracle.connect(\"pyuser/python1234@XE\")\n",
    "cur = conn.cursor()\n",
    "cur.execute('select * from dept')\n",
    "i = cur.fetchone()\n",
    "print(i)\n",
    "print(cur.fetchone())\n",
    "cur.close()\n",
    "conn.close()"
   ]
  },
  {
   "cell_type": "raw",
   "metadata": {},
   "source": [
    "# Create table insql command line\n",
    "create table student(sid number(4), sname varchar2(20), course varchar2(20), fee number(7,2))"
   ]
  },
  {
   "cell_type": "code",
   "execution_count": 14,
   "metadata": {},
   "outputs": [
    {
     "name": "stdout",
     "output_type": "stream",
     "text": [
      "<class 'cx_Oracle.Connection'>\n",
      "<class 'cx_Oracle.Cursor'>\n",
      "(102, 'ramesh2', 'java', 5000.0)\n",
      "(102, 'ramesh2', 'java', 5000.0)\n",
      "(102, 'ramesh2', 'java', 5000.0)\n",
      "(103, 'ramesh3', 'python', 8000.0)\n",
      "<class 'tuple'>\n"
     ]
    }
   ],
   "source": [
    "conn = cx_Oracle.connect(\"pyuser/python1234@XE\")\n",
    "print(type(conn))\n",
    "cur = conn.cursor()\n",
    "print(type(cur))\n",
    "cur.execute('select * from student')\n",
    "for i in cur:\n",
    "    print(i)\n",
    "print(type(i))\n",
    "cur.close()\n",
    "conn.close()"
   ]
  },
  {
   "cell_type": "code",
   "execution_count": 11,
   "metadata": {},
   "outputs": [],
   "source": [
    "# execute - insert a record\n",
    "conn = cx_Oracle.connect(\"pyuser/python1234@XE\")\n",
    "cur = conn.cursor()\n",
    "cur.execute(\"insert into student values(102,'ramesh2','java',5000)\")\n",
    "conn.commit()\n",
    "cur.close()\n",
    "conn.close()"
   ]
  },
  {
   "cell_type": "code",
   "execution_count": 13,
   "metadata": {},
   "outputs": [],
   "source": [
    "# executemany - insert multiple records\n",
    "conn = cx_Oracle.connect(\"pyuser/python1234@XE\")\n",
    "cur = conn.cursor()\n",
    "student_info = [(102,'ramesh2','java',5000),(103,'ramesh3','python',8000)]\n",
    "cur.executemany(\"insert into student(sid,sname,course,fee) values(:1,:2,:3,:4)\", student_info)\n",
    "conn.commit()\n",
    "cur.close()\n",
    "conn.close()"
   ]
  },
  {
   "cell_type": "code",
   "execution_count": null,
   "metadata": {},
   "outputs": [],
   "source": []
  }
 ],
 "metadata": {
  "kernelspec": {
   "display_name": "Python 3",
   "language": "python",
   "name": "python3"
  },
  "language_info": {
   "codemirror_mode": {
    "name": "ipython",
    "version": 3
   },
   "file_extension": ".py",
   "mimetype": "text/x-python",
   "name": "python",
   "nbconvert_exporter": "python",
   "pygments_lexer": "ipython3",
   "version": "3.7.3"
  }
 },
 "nbformat": 4,
 "nbformat_minor": 2
}
