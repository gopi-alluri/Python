{
 "cells": [
  {
   "cell_type": "code",
   "execution_count": null,
   "metadata": {},
   "outputs": [],
   "source": [
    "# to get cx_oracle \n",
    "# pip install cx_oracle in cmd prompt"
   ]
  },
  {
   "cell_type": "raw",
   "metadata": {},
   "source": [
    "!pip install cx_oracle"
   ]
  },
  {
   "cell_type": "raw",
   "metadata": {},
   "source": [
    "# open oracle command line and write below queries\n",
    "SQL>conn system/Oracle1234@XE\n",
    "SQL>create user pyuser identified by python1234;\n",
    "SQL>grant connect,resource,unlimited tablespace to pyuser\n",
    "SQL>conn pyuser/python1234@XE"
   ]
  },
  {
   "cell_type": "code",
   "execution_count": 2,
   "metadata": {},
   "outputs": [],
   "source": [
    "import cx_Oracle"
   ]
  },
  {
   "cell_type": "code",
   "execution_count": 3,
   "metadata": {
    "scrolled": true
   },
   "outputs": [
    {
     "name": "stdout",
     "output_type": "stream",
     "text": [
      "(10, 'ACCOUNTING', 'NEW YORK')\n",
      "(20, 'RESEARCH', 'DALLAS')\n",
      "(30, 'SALES', 'CHICAGO')\n",
      "(40, 'OPERATIONS', 'BOSTON')\n"
     ]
    }
   ],
   "source": [
    "#example1\n",
    "conn=cx_Oracle.connect('pyuser/python1234@orcl')\n",
    "cur=conn.cursor()\n",
    "cur.execute('select * from dept')\n",
    "for i in cur:\n",
    "    print(i)\n",
    "cur.close()\n",
    "conn.close()"
   ]
  },
  {
   "cell_type": "code",
   "execution_count": 4,
   "metadata": {},
   "outputs": [
    {
     "name": "stdout",
     "output_type": "stream",
     "text": [
      "(10, 'ACCOUNTING', 'NEW YORK')\n",
      "(20, 'RESEARCH', 'DALLAS')\n",
      "(30, 'SALES', 'CHICAGO')\n",
      "(40, 'OPERATIONS', 'BOSTON')\n"
     ]
    }
   ],
   "source": [
    "#example2\n",
    "conn=cx_Oracle.connect('pyuser/python1234@orcl')\n",
    "cur=conn.cursor()\n",
    "deptdata=cur.execute('select * from dept')\n",
    "for i in deptdata:\n",
    "    print(i)\n",
    "cur.close()\n",
    "conn.close()"
   ]
  },
  {
   "cell_type": "code",
   "execution_count": 5,
   "metadata": {},
   "outputs": [
    {
     "name": "stdout",
     "output_type": "stream",
     "text": [
      "<cx_Oracle.Cursor on <cx_Oracle.Connection to pyuser@orcl>>\n"
     ]
    }
   ],
   "source": [
    "#example3\n",
    "conn=cx_Oracle.connect('pyuser/python1234@orcl')\n",
    "cur=conn.cursor()\n",
    "deptdata=cur.execute('select * from dept')\n",
    "print(deptdata)\n",
    "cur.close()\n",
    "conn.close()"
   ]
  },
  {
   "cell_type": "code",
   "execution_count": 6,
   "metadata": {},
   "outputs": [
    {
     "name": "stdout",
     "output_type": "stream",
     "text": [
      "[(10, 'ACCOUNTING', 'NEW YORK'), (20, 'RESEARCH', 'DALLAS'), (30, 'SALES', 'CHICAGO'), (40, 'OPERATIONS', 'BOSTON')]\n"
     ]
    }
   ],
   "source": [
    "#example4\n",
    "conn=cx_Oracle.connect('pyuser/python1234@orcl')\n",
    "cur=conn.cursor()\n",
    "cur.execute('select * from dept')\n",
    "deptdata=cur.fetchall()\n",
    "print(deptdata)\n",
    "cur.close()\n",
    "conn.close()"
   ]
  },
  {
   "cell_type": "code",
   "execution_count": 7,
   "metadata": {},
   "outputs": [
    {
     "name": "stdout",
     "output_type": "stream",
     "text": [
      "[(10, 'ACCOUNTING', 'NEW YORK'), (20, 'RESEARCH', 'DALLAS'), (30, 'SALES', 'CHICAGO'), (40, 'OPERATIONS', 'BOSTON')]\n",
      "<class 'list'>\n"
     ]
    }
   ],
   "source": [
    "print(deptdata)\n",
    "print(type(deptdata))"
   ]
  },
  {
   "cell_type": "code",
   "execution_count": 8,
   "metadata": {},
   "outputs": [
    {
     "name": "stdout",
     "output_type": "stream",
     "text": [
      "(10, 'ACCOUNTING', 'NEW YORK')\n",
      "(20, 'RESEARCH', 'DALLAS')\n",
      "(30, 'SALES', 'CHICAGO')\n"
     ]
    }
   ],
   "source": [
    "conn=cx_Oracle.connect('pyuser/python1234@orcl')\n",
    "cur=conn.cursor()\n",
    "deptdata=cur.execute('select * from dept')\n",
    "print(deptdata.fetchone())\n",
    "print(deptdata.fetchone())\n",
    "print(deptdata.fetchone())\n",
    "cur.close()\n",
    "conn.close()"
   ]
  },
  {
   "cell_type": "code",
   "execution_count": null,
   "metadata": {
    "scrolled": true
   },
   "outputs": [],
   "source": [
    "#Working with Oracle Procedure\n",
    "#step1 : create a procedure in oracle\n",
    "#step2 : testing oracle procedure in oracle\n",
    "#step3 : calling oracle procedure from python"
   ]
  },
  {
   "cell_type": "code",
   "execution_count": null,
   "metadata": {},
   "outputs": [],
   "source": [
    "#step1 : create a procedure in oracle(you have to do in oracle)\n",
    "\"\"\"\n",
    "create or replace procedure grossal\n",
    "(\n",
    "i_empno number,\n",
    "gr_sal out number\n",
    ")\n",
    "as\n",
    "v_sal number(7,2);\n",
    "v_comm number(7,2);\n",
    "begin\n",
    "select sal,comm into v_sal,v_comm from emp where empno=i_empno;\n",
    "gr_sal:=v_sal+nvl(v_comm,0);\n",
    "end;\n",
    "/\n",
    "\"\"\""
   ]
  },
  {
   "cell_type": "code",
   "execution_count": null,
   "metadata": {},
   "outputs": [],
   "source": [
    "#step2 : testing oracle procedure in oracle(you have to do in oracle only)\n",
    "# set serveroutput on\n",
    "\"\"\"\n",
    "declare\n",
    "gross_salary number(7,2);\n",
    "begin\n",
    "grossal(7499,gross_salary);\n",
    "dbms_output.put_line(gross_salary);\n",
    "end;\n",
    "/\n",
    "\"\"\""
   ]
  },
  {
   "cell_type": "code",
   "execution_count": 9,
   "metadata": {},
   "outputs": [
    {
     "name": "stdout",
     "output_type": "stream",
     "text": [
      "1900.0\n"
     ]
    }
   ],
   "source": [
    "#step3 : calling oracle procedure from python\n",
    "con = cx_Oracle.connect('pyuser/python1234@orcl')\n",
    "cur = con.cursor()\n",
    "grosssalary=cur.var(cx_Oracle.NUMBER)\n",
    "cur.callproc('grossal',(7499,grosssalary))\n",
    "print(grosssalary.getvalue())\n",
    "cur.close()\n",
    "con.close()"
   ]
  },
  {
   "cell_type": "code",
   "execution_count": null,
   "metadata": {},
   "outputs": [],
   "source": [
    "#Working with Oracle Function\n",
    "#step1 : create a Function in oracle\n",
    "#step2 : testing oracle Function in oracle\n",
    "#step3 : calling oracle Function from python"
   ]
  },
  {
   "cell_type": "raw",
   "metadata": {},
   "source": [
    "step1 : create a Function in oracle\n",
    "create or replace function empexp\n",
    "(\n",
    "iempno in number\n",
    ") \n",
    "return number\n",
    "as\n",
    "exp number;\n",
    "begin\n",
    "select round((sysdate-hiredate)/365) into exp from emp where empno=iempno;\n",
    "return exp;\n",
    "end;\n",
    "/"
   ]
  },
  {
   "cell_type": "raw",
   "metadata": {},
   "source": [
    "#step2 : testing oracle Function in oracle\n",
    "select empexp(7499) from dual;"
   ]
  },
  {
   "cell_type": "code",
   "execution_count": 10,
   "metadata": {},
   "outputs": [
    {
     "name": "stdout",
     "output_type": "stream",
     "text": [
      "Enter employee Number::7844\n",
      "38.0\n"
     ]
    }
   ],
   "source": [
    "#step3 : calling oracle Function from python\n",
    "conn = cx_Oracle.connect('pyuser/python1234@orcl')\n",
    "cur = conn.cursor()\n",
    "empno=input(\"Enter employee Number::\")\n",
    "exp = cur.callfunc('empexp', cx_Oracle.NUMBER, (empno,))\n",
    "print (exp)\n",
    "cur.close()\n",
    "conn.close()"
   ]
  },
  {
   "cell_type": "raw",
   "metadata": {},
   "source": [
    "#creating table in oracle database\n",
    "create table student(sid number(4),sname varchar2(15),course varchar2(15),fee number(7,2));"
   ]
  },
  {
   "cell_type": "code",
   "execution_count": null,
   "metadata": {},
   "outputs": [],
   "source": [
    "#inserting single record\n",
    "conn = cx_Oracle.connect('pyuser/python1234@orcl')\n",
    "cur = conn.cursor()\n",
    "cur.execute(\"insert into student values(101,'raju','python',8000)\")\n",
    "conn.commit()\n",
    "cur.close()\n",
    "conn.close()"
   ]
  },
  {
   "cell_type": "code",
   "execution_count": null,
   "metadata": {},
   "outputs": [],
   "source": [
    "#inserting multiple records from list to database table\n",
    "conn = cx_Oracle.connect('pyuser/python1234@orcl')\n",
    "rows = [ (102,'raju','python',8000),(103,'ramesh','python',6500),(104,'jai','java',3500),(105,'ram','angular',5500)]\n",
    "cur=conn.cursor()\n",
    "cur.executemany(\"insert into student(sid,sname,course,fee) values (:sid,:sname,:course,:fee)\",rows)\n",
    "conn.commit()\n",
    "print(\"Transaction completed successfully\")\n",
    "cur.close()\n",
    "conn.close()"
   ]
  },
  {
   "cell_type": "code",
   "execution_count": null,
   "metadata": {},
   "outputs": [],
   "source": []
  }
 ],
 "metadata": {
  "kernelspec": {
   "display_name": "Python 3",
   "language": "python",
   "name": "python3"
  },
  "language_info": {
   "codemirror_mode": {
    "name": "ipython",
    "version": 3
   },
   "file_extension": ".py",
   "mimetype": "text/x-python",
   "name": "python",
   "nbconvert_exporter": "python",
   "pygments_lexer": "ipython3",
   "version": "3.7.3"
  }
 },
 "nbformat": 4,
 "nbformat_minor": 2
}
