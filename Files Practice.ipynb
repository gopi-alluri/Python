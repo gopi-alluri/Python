{
 "cells": [
  {
   "cell_type": "code",
   "execution_count": 3,
   "metadata": {},
   "outputs": [
    {
     "name": "stdout",
     "output_type": "stream",
     "text": [
      "101,raju,python,8000\n",
      "\n",
      "102,ravi,java,5000\n",
      "\n",
      "103,ramesh,PYTHON,7500\n",
      "\n",
      "104,ramu,java,4500\n",
      "\n",
      "105,somu,c++,3500\n",
      "\n",
      "106,ramesh,Python,7500\n",
      "\n",
      "107,tullan,java script,3000\n",
      "\n",
      "108,ramana,c,2000\n",
      "\n",
      "109,ramana,JAVAscript,2800\n",
      "\n",
      "110,ramesh,scala,3000\n",
      "\n",
      "111,manish,SCALA,2500\n",
      "\n",
      "112,somu,c,2000\n",
      "\n",
      "113,raghu,c++,3400\n",
      "\n",
      "114,dilip,javascript,3500\n"
     ]
    }
   ],
   "source": [
    "fobj1=open(r\"E:\\pyfiles\\students.txt\")\n",
    "for i in fobj1:\n",
    "    print(i)\n",
    "fobj1.close()"
   ]
  },
  {
   "cell_type": "code",
   "execution_count": 4,
   "metadata": {},
   "outputs": [
    {
     "name": "stdout",
     "output_type": "stream",
     "text": [
      "['101', 'raju', 'python', '8000\\n']\n",
      "['102', 'ravi', 'java', '5000\\n']\n",
      "['103', 'ramesh', 'PYTHON', '7500\\n']\n",
      "['104', 'ramu', 'java', '4500\\n']\n",
      "['105', 'somu', 'c++', '3500\\n']\n",
      "['106', 'ramesh', 'Python', '7500\\n']\n",
      "['107', 'tullan', 'java script', '3000\\n']\n",
      "['108', 'ramana', 'c', '2000\\n']\n",
      "['109', 'ramana', 'JAVAscript', '2800\\n']\n",
      "['110', 'ramesh', 'scala', '3000\\n']\n",
      "['111', 'manish', 'SCALA', '2500\\n']\n",
      "['112', 'somu', 'c', '2000\\n']\n",
      "['113', 'raghu', 'c++', '3400\\n']\n",
      "['114', 'dilip', 'javascript', '3500']\n"
     ]
    }
   ],
   "source": [
    "fobj1=open(r\"E:\\pyfiles\\students.txt\")\n",
    "for i in fobj1:\n",
    "    print(i.split(\",\"))\n",
    "fobj1.close()"
   ]
  },
  {
   "cell_type": "code",
   "execution_count": 6,
   "metadata": {},
   "outputs": [
    {
     "name": "stdout",
     "output_type": "stream",
     "text": [
      "python\n",
      "java\n",
      "PYTHON\n",
      "java\n",
      "c++\n",
      "Python\n",
      "javascript\n",
      "c\n",
      "JAVAscript\n",
      "scala\n",
      "SCALA\n",
      "c\n",
      "c++\n",
      "javascript\n"
     ]
    }
   ],
   "source": [
    "fobj1=open(r\"E:\\pyfiles\\students.txt\")\n",
    "for i in fobj1:\n",
    "    print(i.split(\",\")[2].replace(\" \",\"\"))\n",
    "fobj1.close()"
   ]
  },
  {
   "cell_type": "code",
   "execution_count": 17,
   "metadata": {},
   "outputs": [
    {
     "name": "stdout",
     "output_type": "stream",
     "text": [
      "adfa\n"
     ]
    },
    {
     "ename": "FileNotFoundError",
     "evalue": "[Errno 2] No such file or directory: 'E:\\\\pyfiles\\\\students56756.txt'",
     "output_type": "error",
     "traceback": [
      "\u001b[1;31m---------------------------------------------------------------------------\u001b[0m",
      "\u001b[1;31mFileNotFoundError\u001b[0m                         Traceback (most recent call last)",
      "\u001b[1;32m<ipython-input-17-4205381bb1af>\u001b[0m in \u001b[0;36m<module>\u001b[1;34m\u001b[0m\n\u001b[0;32m      1\u001b[0m \u001b[0mcourse\u001b[0m\u001b[1;33m=\u001b[0m\u001b[0minput\u001b[0m\u001b[1;33m(\u001b[0m\u001b[1;33m)\u001b[0m\u001b[1;33m.\u001b[0m\u001b[0mreplace\u001b[0m\u001b[1;33m(\u001b[0m\u001b[1;34m\" \"\u001b[0m\u001b[1;33m,\u001b[0m\u001b[1;34m\"\"\u001b[0m\u001b[1;33m)\u001b[0m\u001b[1;33m\u001b[0m\u001b[1;33m\u001b[0m\u001b[0m\n\u001b[1;32m----> 2\u001b[1;33m \u001b[0mfobj1\u001b[0m\u001b[1;33m=\u001b[0m\u001b[0mopen\u001b[0m\u001b[1;33m(\u001b[0m\u001b[1;34mr\"E:\\pyfiles\\students56756.txt\"\u001b[0m\u001b[1;33m)\u001b[0m\u001b[1;33m\u001b[0m\u001b[1;33m\u001b[0m\u001b[0m\n\u001b[0m\u001b[0;32m      3\u001b[0m \u001b[1;32mimport\u001b[0m \u001b[0mre\u001b[0m\u001b[1;33m\u001b[0m\u001b[1;33m\u001b[0m\u001b[0m\n\u001b[0;32m      4\u001b[0m \u001b[1;32mfor\u001b[0m \u001b[0mi\u001b[0m \u001b[1;32min\u001b[0m \u001b[0mfobj1\u001b[0m\u001b[1;33m:\u001b[0m\u001b[1;33m\u001b[0m\u001b[1;33m\u001b[0m\u001b[0m\n\u001b[0;32m      5\u001b[0m     \u001b[1;32mif\u001b[0m \u001b[0mre\u001b[0m\u001b[1;33m.\u001b[0m\u001b[0mfullmatch\u001b[0m\u001b[1;33m(\u001b[0m\u001b[0mre\u001b[0m\u001b[1;33m.\u001b[0m\u001b[0mescape\u001b[0m\u001b[1;33m(\u001b[0m\u001b[0mcourse\u001b[0m\u001b[1;33m)\u001b[0m\u001b[1;33m,\u001b[0m\u001b[0mi\u001b[0m\u001b[1;33m.\u001b[0m\u001b[0msplit\u001b[0m\u001b[1;33m(\u001b[0m\u001b[1;34m\",\"\u001b[0m\u001b[1;33m)\u001b[0m\u001b[1;33m[\u001b[0m\u001b[1;36m2\u001b[0m\u001b[1;33m]\u001b[0m\u001b[1;33m.\u001b[0m\u001b[0mreplace\u001b[0m\u001b[1;33m(\u001b[0m\u001b[1;34m\" \"\u001b[0m\u001b[1;33m,\u001b[0m\u001b[1;34m\"\"\u001b[0m\u001b[1;33m)\u001b[0m\u001b[1;33m,\u001b[0m\u001b[0mre\u001b[0m\u001b[1;33m.\u001b[0m\u001b[0mI\u001b[0m\u001b[1;33m)\u001b[0m\u001b[1;33m:\u001b[0m\u001b[1;33m\u001b[0m\u001b[1;33m\u001b[0m\u001b[0m\n",
      "\u001b[1;31mFileNotFoundError\u001b[0m: [Errno 2] No such file or directory: 'E:\\\\pyfiles\\\\students56756.txt'"
     ]
    }
   ],
   "source": [
    "course=input().replace(\" \",\"\")\n",
    "fobj1=open(r\"E:\\pyfiles\\students56756.txt\")\n",
    "import re\n",
    "for i in fobj1:\n",
    "    if re.fullmatch(re.escape(course),i.split(\",\")[2].replace(\" \",\"\"),re.I):\n",
    "        print(i)\n",
    "fobj1.close()"
   ]
  },
  {
   "cell_type": "code",
   "execution_count": null,
   "metadata": {},
   "outputs": [],
   "source": []
  },
  {
   "cell_type": "code",
   "execution_count": 20,
   "metadata": {},
   "outputs": [],
   "source": [
    "class InvalidCourse(Exception):\n",
    "    pass"
   ]
  },
  {
   "cell_type": "code",
   "execution_count": 32,
   "metadata": {},
   "outputs": [
    {
     "name": "stdout",
     "output_type": "stream",
     "text": [
      "python\n",
      "Numbe of student for python=3\n"
     ]
    }
   ],
   "source": [
    "course=input().replace(\" \",\"\")\n",
    "filename=r\"E:\\pyfiles\\students.txt\"\n",
    "try:\n",
    "    if re.search('^[a-z]',course):\n",
    "        fobj1=open(filename)\n",
    "    else:\n",
    "        raise InvalidCourse\n",
    "except(FileNotFoundError):\n",
    "    print(\"Given file is not existed\",filename)\n",
    "except(InvalidCourse):\n",
    "    print()\n",
    "else:\n",
    "    cnt=0\n",
    "    for i in fobj1:\n",
    "        if re.fullmatch(re.escape(course),i.split(\",\")[2].replace(\" \",\"\"),re.I):\n",
    "            cnt+=1\n",
    "    if cnt==0:\n",
    "        print(\"Given Course is not availabel\")\n",
    "    else:\n",
    "        print(\"Numbe of student for {}={}\".format(course,cnt))"
   ]
  },
  {
   "cell_type": "code",
   "execution_count": 2,
   "metadata": {},
   "outputs": [
    {
     "name": "stdout",
     "output_type": "stream",
     "text": [
      "javascript\n",
      "Total revenue for javascript=9300\n"
     ]
    }
   ],
   "source": [
    "course=input().replace(\" \",\"\")\n",
    "filename=r\"E:\\pyfiles\\students.txt\"\n",
    "try:\n",
    "    import re\n",
    "    if re.search('^[a-z]',course):\n",
    "        fobj1=open(filename)\n",
    "    else:\n",
    "        raise InvalidCourse\n",
    "except(FileNotFoundError):\n",
    "    print(\"Given file is not existed\",filename)\n",
    "except(InvalidCourse):\n",
    "    print(\"Given course is invalid\")\n",
    "else:\n",
    "    cnt=0\n",
    "    totrev=0\n",
    "    for i in fobj1:\n",
    "        if re.fullmatch(re.escape(course),i.split(\",\")[2].replace(\" \",\"\"),re.I):\n",
    "            totrev+=int(i.split(\",\")[3])\n",
    "            cnt+=1\n",
    "    if cnt==0:\n",
    "        print(\"Given Course is not availabel\")\n",
    "    else:\n",
    "        print(\"Total revenue for {}={}\".format(course,totrev))"
   ]
  },
  {
   "cell_type": "code",
   "execution_count": null,
   "metadata": {},
   "outputs": [],
   "source": [
    "filename=r\"E:\\pyfiles\\students.txt\"\n",
    "try:\n",
    "    import re\n",
    "    if re.search('^[a-z]',course):\n",
    "        fobj1=open(filename)\n",
    "    else:\n",
    "        raise InvalidCourse\n",
    "except(FileNotFoundError):\n",
    "    print(\"Given file is not existed\",filename)\n",
    "except(InvalidCourse):\n",
    "    print(\"Given course is invalid\")\n",
    "else:\n",
    "    cnt=0\n",
    "    totrev=0\n",
    "    for i in fobj1:\n",
    "        if re.fullmatch(re.escape(course),i.split(\",\")[2].replace(\" \",\"\"),re.I):\n",
    "            totrev+=int(i.split(\",\")[3])\n",
    "            cnt+=1\n",
    "    if cnt==0:\n",
    "        print(\"Given Course is not availabel\")\n",
    "    else:\n",
    "        print(\"Total revenue for {}={}\".format(course,totrev))"
   ]
  },
  {
   "cell_type": "code",
   "execution_count": null,
   "metadata": {},
   "outputs": [],
   "source": []
  }
 ],
 "metadata": {
  "kernelspec": {
   "display_name": "Python 3",
   "language": "python",
   "name": "python3"
  },
  "language_info": {
   "codemirror_mode": {
    "name": "ipython",
    "version": 3
   },
   "file_extension": ".py",
   "mimetype": "text/x-python",
   "name": "python",
   "nbconvert_exporter": "python",
   "pygments_lexer": "ipython3",
   "version": "3.7.3"
  }
 },
 "nbformat": 4,
 "nbformat_minor": 2
}
