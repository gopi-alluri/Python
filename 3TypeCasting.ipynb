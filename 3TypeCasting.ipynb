{
 "cells": [
  {
   "cell_type": "code",
   "execution_count": null,
   "metadata": {},
   "outputs": [],
   "source": [
    "# Type Casting\n",
    "%s ==> string , int , float\n",
    "%d ==> only integer part\n",
    "%f ==> only float"
   ]
  },
  {
   "cell_type": "code",
   "execution_count": 1,
   "metadata": {},
   "outputs": [],
   "source": [
    "var1=\"Python\"\n",
    "var2=8000\n",
    "var3=2.30"
   ]
  },
  {
   "cell_type": "code",
   "execution_count": 4,
   "metadata": {},
   "outputs": [
    {
     "name": "stdout",
     "output_type": "stream",
     "text": [
      "Course=var1,fee=var2,time=var3\n"
     ]
    }
   ],
   "source": [
    "print(\"Course=var1,fee=var2,time=var3\")"
   ]
  },
  {
   "cell_type": "code",
   "execution_count": 5,
   "metadata": {},
   "outputs": [
    {
     "name": "stdout",
     "output_type": "stream",
     "text": [
      "Course=Python,fee=8000,time=2.300000\n"
     ]
    }
   ],
   "source": [
    "print(\"Course=%s,fee=%d,time=%f\" %(var1,var2,var3))"
   ]
  },
  {
   "cell_type": "code",
   "execution_count": 6,
   "metadata": {},
   "outputs": [
    {
     "name": "stdout",
     "output_type": "stream",
     "text": [
      "Python\n",
      "8000\n",
      "2.3\n",
      "8000\n",
      "2\n",
      "8000.000000\n",
      "2.300000\n"
     ]
    }
   ],
   "source": [
    "print(\"%s\" %(var1))\n",
    "print(\"%s\" %(var2))\n",
    "print(\"%s\" %(var3))\n",
    "print(\"%d\" %(var2))\n",
    "print(\"%d\" %(var3))\n",
    "print(\"%f\" %(var2))\n",
    "print(\"%f\" %(var3))"
   ]
  },
  {
   "cell_type": "code",
   "execution_count": 7,
   "metadata": {},
   "outputs": [
    {
     "ename": "TypeError",
     "evalue": "%d format: a number is required, not str",
     "output_type": "error",
     "traceback": [
      "\u001b[1;31m---------------------------------------------------------------------------\u001b[0m",
      "\u001b[1;31mTypeError\u001b[0m                                 Traceback (most recent call last)",
      "\u001b[1;32m<ipython-input-7-2a3a76c92a3d>\u001b[0m in \u001b[0;36m<module>\u001b[1;34m\u001b[0m\n\u001b[1;32m----> 1\u001b[1;33m \u001b[0mprint\u001b[0m\u001b[1;33m(\u001b[0m\u001b[1;34m\"%d\"\u001b[0m \u001b[1;33m%\u001b[0m\u001b[1;33m(\u001b[0m\u001b[0mvar1\u001b[0m\u001b[1;33m)\u001b[0m\u001b[1;33m)\u001b[0m\u001b[1;33m\u001b[0m\u001b[1;33m\u001b[0m\u001b[0m\n\u001b[0m",
      "\u001b[1;31mTypeError\u001b[0m: %d format: a number is required, not str"
     ]
    }
   ],
   "source": [
    "print(\"%d\" %(var1))"
   ]
  },
  {
   "cell_type": "code",
   "execution_count": 8,
   "metadata": {},
   "outputs": [],
   "source": [
    "my_country = 'India'\n",
    "another_country = 'China'"
   ]
  },
  {
   "cell_type": "code",
   "execution_count": 9,
   "metadata": {
    "scrolled": true
   },
   "outputs": [
    {
     "name": "stdout",
     "output_type": "stream",
     "text": [
      "India\n",
      "China\n",
      "India China\n",
      "India\n",
      "China\n"
     ]
    }
   ],
   "source": [
    "print (my_country)\n",
    "print (another_country)\n",
    "print (my_country, another_country)\n",
    "print( my_country); print (another_country)"
   ]
  },
  {
   "cell_type": "code",
   "execution_count": 10,
   "metadata": {},
   "outputs": [
    {
     "name": "stdout",
     "output_type": "stream",
     "text": [
      "My Country Name is  India\n"
     ]
    }
   ],
   "source": [
    "print (\"My Country Name is \", my_country)"
   ]
  },
  {
   "cell_type": "code",
   "execution_count": 11,
   "metadata": {},
   "outputs": [
    {
     "name": "stdout",
     "output_type": "stream",
     "text": [
      "My Country Name is  India \n",
      "There is another country which adjacent to us China\n"
     ]
    }
   ],
   "source": [
    "print (\"My Country Name is \", my_country , \"\\nThere is another country which \\\n",
    "adjacent to us\", another_country)"
   ]
  },
  {
   "cell_type": "code",
   "execution_count": null,
   "metadata": {},
   "outputs": [],
   "source": [
    "# Type casting\n",
    "# %s => sting  , %d => integer  %r  => raw  %f  => float"
   ]
  },
  {
   "cell_type": "code",
   "execution_count": 12,
   "metadata": {},
   "outputs": [],
   "source": [
    "my_country = \"India\"\n",
    "another_country = 'China'\n",
    "x=100"
   ]
  },
  {
   "cell_type": "code",
   "execution_count": 13,
   "metadata": {},
   "outputs": [
    {
     "name": "stdout",
     "output_type": "stream",
     "text": [
      "My Coutry Name is India 100and another country name is China. \n"
     ]
    }
   ],
   "source": [
    "print (\"My Coutry Name is %s %dand another country name is %s. \" %(my_country,x,another_country))"
   ]
  },
  {
   "cell_type": "code",
   "execution_count": 14,
   "metadata": {},
   "outputs": [
    {
     "name": "stdout",
     "output_type": "stream",
     "text": [
      "My Country Name is , India. , \n",
      "There is another country It's Name is China. which is adjacent to us\n"
     ]
    }
   ],
   "source": [
    "print (\"My Country Name is , %s. , \\nThere is another country \\\n",
    "It's Name is %s. which is adjacent to us\" %(my_country,another_country))"
   ]
  },
  {
   "cell_type": "code",
   "execution_count": 15,
   "metadata": {},
   "outputs": [
    {
     "name": "stdout",
     "output_type": "stream",
     "text": [
      "my country name is India and i love India and India is very great\n"
     ]
    }
   ],
   "source": [
    "print (\"my country name is %s and i love %s and %s is very great\" %(my_country,my_country,my_country))"
   ]
  },
  {
   "cell_type": "code",
   "execution_count": null,
   "metadata": {},
   "outputs": [],
   "source": [
    "#{} with format method of string"
   ]
  },
  {
   "cell_type": "code",
   "execution_count": 16,
   "metadata": {},
   "outputs": [],
   "source": [
    "course=\"Python\""
   ]
  },
  {
   "cell_type": "code",
   "execution_count": 18,
   "metadata": {},
   "outputs": [
    {
     "name": "stdout",
     "output_type": "stream",
     "text": [
      "welcome Python\n"
     ]
    }
   ],
   "source": [
    "print(\"welcome {}\".format(course))"
   ]
  },
  {
   "cell_type": "code",
   "execution_count": 19,
   "metadata": {},
   "outputs": [],
   "source": [
    "var1=\"Python\"\n",
    "var2=8000\n",
    "var3=2.30"
   ]
  },
  {
   "cell_type": "code",
   "execution_count": 20,
   "metadata": {},
   "outputs": [
    {
     "name": "stdout",
     "output_type": "stream",
     "text": [
      "Course=Python,fee=8000,time=2.3\n"
     ]
    }
   ],
   "source": [
    "print(\"Course={},fee={},time={}\".format(var1,var2,var3))"
   ]
  },
  {
   "cell_type": "code",
   "execution_count": 21,
   "metadata": {},
   "outputs": [
    {
     "name": "stdout",
     "output_type": "stream",
     "text": [
      "Course=2.3,fee=Python,time=8000\n"
     ]
    }
   ],
   "source": [
    "print(\"Course={2},fee={0},time={1}\".format(var1,var2,var3))"
   ]
  },
  {
   "cell_type": "code",
   "execution_count": 22,
   "metadata": {},
   "outputs": [
    {
     "name": "stdout",
     "output_type": "stream",
     "text": [
      "my country name is India and i love India and India is very great\n"
     ]
    }
   ],
   "source": [
    "print (\"my country name is {} and i love {} and {} is very great\".format(my_country,my_country,my_country))"
   ]
  },
  {
   "cell_type": "code",
   "execution_count": 23,
   "metadata": {},
   "outputs": [
    {
     "name": "stdout",
     "output_type": "stream",
     "text": [
      "my country name is India and i love India and India is very great\n"
     ]
    }
   ],
   "source": [
    "print (\"my country name is {0} and i love {0} and {0} is very great\".format(my_country))"
   ]
  },
  {
   "cell_type": "code",
   "execution_count": null,
   "metadata": {},
   "outputs": [],
   "source": [
    "#rawdata"
   ]
  },
  {
   "cell_type": "code",
   "execution_count": 24,
   "metadata": {},
   "outputs": [
    {
     "name": "stdout",
     "output_type": "stream",
     "text": [
      "welcome\n",
      "python\n"
     ]
    }
   ],
   "source": [
    "print(\"welcome\\npython\")"
   ]
  },
  {
   "cell_type": "code",
   "execution_count": 25,
   "metadata": {},
   "outputs": [],
   "source": [
    "str1=\"welcome\\npython\""
   ]
  },
  {
   "cell_type": "code",
   "execution_count": 26,
   "metadata": {},
   "outputs": [
    {
     "name": "stdout",
     "output_type": "stream",
     "text": [
      "welcome\n",
      "python\n"
     ]
    }
   ],
   "source": [
    "print(str1)"
   ]
  },
  {
   "cell_type": "code",
   "execution_count": 27,
   "metadata": {},
   "outputs": [
    {
     "name": "stdout",
     "output_type": "stream",
     "text": [
      "welcome\n",
      "python\n"
     ]
    }
   ],
   "source": [
    "print(\"{}\".format(str1))"
   ]
  },
  {
   "cell_type": "code",
   "execution_count": 28,
   "metadata": {},
   "outputs": [
    {
     "name": "stdout",
     "output_type": "stream",
     "text": [
      "welcome\n",
      "python\n"
     ]
    }
   ],
   "source": [
    "print(\"%s\" %(str1))"
   ]
  },
  {
   "cell_type": "code",
   "execution_count": 29,
   "metadata": {},
   "outputs": [
    {
     "name": "stdout",
     "output_type": "stream",
     "text": [
      "'welcome\\npython'\n"
     ]
    }
   ],
   "source": [
    "print(\"%r\" %(str1))"
   ]
  },
  {
   "cell_type": "code",
   "execution_count": 30,
   "metadata": {},
   "outputs": [
    {
     "name": "stdout",
     "output_type": "stream",
     "text": [
      "welcome\\npython\n"
     ]
    }
   ],
   "source": [
    "print(r\"welcome\\npython\")"
   ]
  },
  {
   "cell_type": "code",
   "execution_count": 31,
   "metadata": {},
   "outputs": [
    {
     "name": "stdout",
     "output_type": "stream",
     "text": [
      "welcome\n",
      "python\n"
     ]
    }
   ],
   "source": [
    "print(\"welcome\\npython\")"
   ]
  },
  {
   "cell_type": "code",
   "execution_count": null,
   "metadata": {},
   "outputs": [],
   "source": []
  }
 ],
 "metadata": {
  "kernelspec": {
   "display_name": "Python 3",
   "language": "python",
   "name": "python3"
  },
  "language_info": {
   "codemirror_mode": {
    "name": "ipython",
    "version": 3
   },
   "file_extension": ".py",
   "mimetype": "text/x-python",
   "name": "python",
   "nbconvert_exporter": "python",
   "pygments_lexer": "ipython3",
   "version": "3.7.1"
  }
 },
 "nbformat": 4,
 "nbformat_minor": 1
}
