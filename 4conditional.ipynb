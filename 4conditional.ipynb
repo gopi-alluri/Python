{
 "cells": [
  {
   "cell_type": "code",
   "execution_count": null,
   "metadata": {},
   "outputs": [],
   "source": [
    "# conditional statements\n",
    "# if\n",
    "# if ..else\n",
    "# if .. else..if \n",
    "# if ..elif...\n",
    "# nested if\n",
    "# True and False keywords\n",
    "# is or =="
   ]
  },
  {
   "cell_type": "code",
   "execution_count": 1,
   "metadata": {},
   "outputs": [
    {
     "data": {
      "text/plain": [
       "bool"
      ]
     },
     "execution_count": 1,
     "metadata": {},
     "output_type": "execute_result"
    }
   ],
   "source": [
    "x=True   \n",
    "type(x)"
   ]
  },
  {
   "cell_type": "code",
   "execution_count": 2,
   "metadata": {},
   "outputs": [
    {
     "name": "stdout",
     "output_type": "stream",
     "text": [
      "correct\n"
     ]
    }
   ],
   "source": [
    "if 10>2:\n",
    "    print(\"correct\")"
   ]
  },
  {
   "cell_type": "code",
   "execution_count": 4,
   "metadata": {},
   "outputs": [
    {
     "name": "stdout",
     "output_type": "stream",
     "text": [
      "Enter something:10.45\n",
      "10.45\n"
     ]
    },
    {
     "data": {
      "text/plain": [
       "str"
      ]
     },
     "execution_count": 4,
     "metadata": {},
     "output_type": "execute_result"
    }
   ],
   "source": [
    "n=input(\"Enter something:\")\n",
    "print(n)\n",
    "type(n)"
   ]
  },
  {
   "cell_type": "code",
   "execution_count": 5,
   "metadata": {},
   "outputs": [
    {
     "name": "stdout",
     "output_type": "stream",
     "text": [
      "Enter something:100\n",
      "100\n"
     ]
    },
    {
     "data": {
      "text/plain": [
       "int"
      ]
     },
     "execution_count": 5,
     "metadata": {},
     "output_type": "execute_result"
    }
   ],
   "source": [
    "n=int(input(\"Enter something:\"))\n",
    "print(n)\n",
    "type(n)"
   ]
  },
  {
   "cell_type": "code",
   "execution_count": 6,
   "metadata": {},
   "outputs": [
    {
     "name": "stdout",
     "output_type": "stream",
     "text": [
      "Enter something:100\n",
      "100.0\n"
     ]
    },
    {
     "data": {
      "text/plain": [
       "float"
      ]
     },
     "execution_count": 6,
     "metadata": {},
     "output_type": "execute_result"
    }
   ],
   "source": [
    "n=float(input(\"Enter something:\"))\n",
    "print(n)\n",
    "type(n)"
   ]
  },
  {
   "cell_type": "code",
   "execution_count": 7,
   "metadata": {},
   "outputs": [
    {
     "name": "stdout",
     "output_type": "stream",
     "text": [
      "Enter a value for a::5\n",
      "Enter a value for a::10\n",
      "n1 is greater\n"
     ]
    }
   ],
   "source": [
    "n1=input(\"Enter a value for n1::\")\n",
    "n2=input(\"Enter a value for n2::\")\n",
    "if n1>n2:\n",
    "    print(\"n1 is greater\")\n",
    "else:\n",
    "    print(\"n2 is greater\")"
   ]
  },
  {
   "cell_type": "code",
   "execution_count": 10,
   "metadata": {},
   "outputs": [
    {
     "name": "stdout",
     "output_type": "stream",
     "text": [
      "Enter a value for a::10\n",
      "Enter a value for a::10\n",
      "n2 is greater\n"
     ]
    }
   ],
   "source": [
    "n1=int(input(\"Enter a value for a::\"))\n",
    "n2=int(input(\"Enter a value for a::\"))\n",
    "if n1>n2:\n",
    "    print(\"n1 is greater\")\n",
    "else:\n",
    "    print(\"n2 is greater\")"
   ]
  },
  {
   "cell_type": "code",
   "execution_count": 9,
   "metadata": {},
   "outputs": [
    {
     "name": "stdout",
     "output_type": "stream",
     "text": [
      "Enter a value for a::10\n",
      "Enter a value for a::10\n",
      "Both are equal\n"
     ]
    }
   ],
   "source": [
    "n1=int(input(\"Enter a value for a::\"))\n",
    "n2=int(input(\"Enter a value for a::\"))\n",
    "if n1>n2:\n",
    "    print(\"n1 is greater\")\n",
    "else:\n",
    "    if n2>n1:\n",
    "        print(\"n2 is greater\")\n",
    "    else:\n",
    "        print(\"Both are equal\")"
   ]
  },
  {
   "cell_type": "code",
   "execution_count": 11,
   "metadata": {},
   "outputs": [
    {
     "name": "stdout",
     "output_type": "stream",
     "text": [
      "no\n"
     ]
    }
   ],
   "source": [
    "if \"bac\">\"bad\":\n",
    "    print(\"yes\")\n",
    "else:\n",
    "    print(\"no\")"
   ]
  },
  {
   "cell_type": "code",
   "execution_count": 12,
   "metadata": {},
   "outputs": [
    {
     "name": "stdout",
     "output_type": "stream",
     "text": [
      "Before conditional sttement\n",
      "no hello\n",
      "no hello\n",
      "no hello\n",
      "after conditional sttement\n"
     ]
    }
   ],
   "source": [
    "print(\"Before conditional sttement\")\n",
    "if 10<5:\n",
    "    print(\"hello\")\n",
    "    print(\"hello2\")\n",
    "    print(\"hello3\")\n",
    "else:\n",
    "    print(\"no hello\")\n",
    "    print(\"no hello\")\n",
    "    print(\"no hello\")\n",
    "print(\"after conditional sttement\")"
   ]
  },
  {
   "cell_type": "code",
   "execution_count": 13,
   "metadata": {},
   "outputs": [
    {
     "name": "stdout",
     "output_type": "stream",
     "text": [
      "10 is greater than 5\n",
      "Hello \n",
      "1243243\n"
     ]
    }
   ],
   "source": [
    "if 10 > 5:\n",
    "    print(\"10 is greater than 5\")\n",
    "    print(\"Hello \")\n",
    "print(\"1243243\")"
   ]
  },
  {
   "cell_type": "code",
   "execution_count": 14,
   "metadata": {},
   "outputs": [
    {
     "name": "stdout",
     "output_type": "stream",
     "text": [
      "welcome\n"
     ]
    }
   ],
   "source": [
    "if 10<5:\n",
    "    pass\n",
    "else:\n",
    "    print(\"welcome\")"
   ]
  },
  {
   "cell_type": "code",
   "execution_count": 15,
   "metadata": {},
   "outputs": [
    {
     "name": "stdout",
     "output_type": "stream",
     "text": [
      "10 is less than 20\n",
      "Helllo\n",
      "helllo\n",
      "1234\n"
     ]
    }
   ],
   "source": [
    "if 10 > 20:\n",
    "    print(\"10 is greater than 5\")\n",
    "else:\n",
    "    print(\"10 is less than 20\")\n",
    "    print(\"Helllo\")\n",
    "print(\"helllo\")\n",
    "print(\"1234\")"
   ]
  },
  {
   "cell_type": "code",
   "execution_count": 16,
   "metadata": {},
   "outputs": [
    {
     "name": "stdout",
     "output_type": "stream",
     "text": [
      "False False\n"
     ]
    }
   ],
   "source": [
    "if False:\n",
    "    pass\n",
    "else:\n",
    "    print (\"False False\")"
   ]
  },
  {
   "cell_type": "code",
   "execution_count": 17,
   "metadata": {},
   "outputs": [
    {
     "name": "stdout",
     "output_type": "stream",
     "text": [
      "enter a value for a::100\n",
      "enter a value for a::200\n",
      "200 Entered value is 100\n"
     ]
    }
   ],
   "source": [
    "# %s  %d  %r  %f\n",
    "a=input(\"enter a value for a::\")\n",
    "b=input(\"enter a value for a::\")\n",
    "print(\"{1} Entered value is {0}\".format(a,b))"
   ]
  },
  {
   "cell_type": "code",
   "execution_count": 18,
   "metadata": {},
   "outputs": [
    {
     "name": "stdout",
     "output_type": "stream",
     "text": [
      "True\n"
     ]
    }
   ],
   "source": [
    "if True:\n",
    "    print (\"True\")\n",
    "else:\n",
    "    print (\"False\")"
   ]
  },
  {
   "cell_type": "code",
   "execution_count": 20,
   "metadata": {},
   "outputs": [
    {
     "name": "stdout",
     "output_type": "stream",
     "text": [
      "enter a value for val1:100\n",
      "enter a value for val2:200\n",
      "100200\n"
     ]
    }
   ],
   "source": [
    "val1 = input(\"enter a value for val1:\")\n",
    "val2 = input(\"enter a value for val2:\")\n",
    "val3 = val1 + val2\n",
    "print (val3)"
   ]
  },
  {
   "cell_type": "code",
   "execution_count": 21,
   "metadata": {},
   "outputs": [
    {
     "name": "stdout",
     "output_type": "stream",
     "text": [
      "enter a value:100\n",
      "100\n",
      "<class 'str'>\n",
      "<class 'int'>\n"
     ]
    },
    {
     "data": {
      "text/plain": [
       "str"
      ]
     },
     "execution_count": 21,
     "metadata": {},
     "output_type": "execute_result"
    }
   ],
   "source": [
    "val =input(\"enter a value:\")\n",
    "print(val)  # 100\n",
    "print(type(val))  # str\n",
    "print(type(int(val)))  # int\n",
    "type(val)  #  str"
   ]
  },
  {
   "cell_type": "code",
   "execution_count": 22,
   "metadata": {},
   "outputs": [
    {
     "name": "stdout",
     "output_type": "stream",
     "text": [
      "Enter a value for a::100\n",
      "Enter a value for b::200\n",
      "300\n"
     ]
    }
   ],
   "source": [
    "a = input(\"Enter a value for a::\")\n",
    "b = input(\"Enter a value for b::\")\n",
    "print(int(a)+int(b))"
   ]
  },
  {
   "cell_type": "code",
   "execution_count": 13,
   "metadata": {},
   "outputs": [
    {
     "name": "stdout",
     "output_type": "stream",
     "text": [
      "Enter a value for a::10\n",
      "Enter a value for b::20\n",
      "30\n"
     ]
    }
   ],
   "source": [
    "a = int(input(\"Enter a value for a::\"))\n",
    "b = int(input(\"Enter a value for b::\"))\n",
    "print(a+b)"
   ]
  },
  {
   "cell_type": "code",
   "execution_count": 14,
   "metadata": {},
   "outputs": [
    {
     "name": "stdout",
     "output_type": "stream",
     "text": [
      "Enter a value for a::10\n",
      "Enter a value for b::20\n",
      "b is greater than a\n"
     ]
    }
   ],
   "source": [
    "a = int(input(\"Enter a value for a::\"))\n",
    "b = int(input(\"Enter a value for b::\"))\n",
    "if a > b:\n",
    "    print(\"a is greater than b\")\n",
    "else:\n",
    "    print (\"b is greater than a\")"
   ]
  },
  {
   "cell_type": "code",
   "execution_count": 15,
   "metadata": {},
   "outputs": [
    {
     "name": "stdout",
     "output_type": "stream",
     "text": [
      "Enter a value for a::10\n",
      "Enter a value for b::20\n",
      "20 is greater than 10\n"
     ]
    }
   ],
   "source": [
    "a = int(input(\"Enter a value for a::\"))\n",
    "b = int(input(\"Enter a value for b::\"))\n",
    "if a > b:\n",
    "    print (\"%d is greater than %d\" %(a,b))\n",
    "else:\n",
    "    print (\"{1} is greater than {0}\".format(a,b))"
   ]
  },
  {
   "cell_type": "code",
   "execution_count": 16,
   "metadata": {},
   "outputs": [
    {
     "name": "stdout",
     "output_type": "stream",
     "text": [
      "Enter a value for a::10\n",
      "Enter a value for b::10\n",
      "10 and 10 are equal values\n"
     ]
    }
   ],
   "source": [
    "a = int(input(\"Enter a value for a::\"))\n",
    "b = int(input(\"Enter a value for b::\"))\n",
    "if a > b:\n",
    "    print (\"%d is greater than %d\" %(a,b))\n",
    "else:\n",
    "    if b > a:\n",
    "        print (\"{1} is greater than {0}\".format(a,b))\n",
    "    else:\n",
    "        print (\"{1} and {0} are equal values\".format(b,a))"
   ]
  },
  {
   "cell_type": "code",
   "execution_count": 8,
   "metadata": {},
   "outputs": [
    {
     "name": "stdout",
     "output_type": "stream",
     "text": [
      "Enter a value for a::5\n",
      "Enter a value for b::7\n",
      "7 is greater than 5\n"
     ]
    }
   ],
   "source": [
    "a = input(\"Enter a value for a::\")\n",
    "b = input(\"Enter a value for b::\")\n",
    "if a > b:\n",
    "    print (\"%d is greater than %d\" %(a,b))\n",
    "elif b > a:\n",
    "    print (\"{1} is greater than {0}\".format(a,b))\n",
    "else:\n",
    "    print (\"{1} and {0} are equal values\".format(b,a))"
   ]
  },
  {
   "cell_type": "code",
   "execution_count": 18,
   "metadata": {},
   "outputs": [
    {
     "name": "stdout",
     "output_type": "stream",
     "text": [
      "True\n"
     ]
    }
   ],
   "source": [
    "# is or ==\n",
    "x=100\n",
    "y=100\n",
    "print(x==y)"
   ]
  },
  {
   "cell_type": "code",
   "execution_count": 24,
   "metadata": {},
   "outputs": [
    {
     "name": "stdout",
     "output_type": "stream",
     "text": [
      "Enter your subject name:m\n",
      "Enter your subject name:g\n",
      "Enter your subject name:h\n",
      "Science student\n"
     ]
    }
   ],
   "source": [
    "s1 = input(\"Enter your subject name:\")\n",
    "s2 = input(\"Enter your subject name:\")\n",
    "s3 = input(\"Enter your subject name:\")\n",
    "if s1=='m' or s1=='p' or s1=='c':\n",
    "    print (\"Science student\")\n",
    "elif s2=='m' or s2=='p' or s2=='c':\n",
    "    print (\"Science student\")\n",
    "elif s3=='m' or s3=='p' or s3=='c':\n",
    "    print (\"Science student\")\n",
    "else:\n",
    "    print (\"Arts student\")"
   ]
  },
  {
   "cell_type": "code",
   "execution_count": 25,
   "metadata": {},
   "outputs": [
    {
     "name": "stdout",
     "output_type": "stream",
     "text": [
      "Enter a marks for Maths::55\n",
      "Enter a value for Science::65\n",
      "Enter a value for physics::85\n",
      "Enter a value for english::45\n",
      "Pass\n"
     ]
    }
   ],
   "source": [
    "math = input(\"Enter a marks for Maths::\")\n",
    "sci = input(\"Enter a value for Science::\")\n",
    "phy = input(\"Enter a value for physics::\")\n",
    "eng = input(\"Enter a value for english::\")\n",
    "if int(math) >= 40 and int(sci) >= 40 and int(phy) >= 40 and int(eng) >= 40:\n",
    "    print (\"Pass\")\n",
    "else:\n",
    "    print (\"Fail\")"
   ]
  },
  {
   "cell_type": "code",
   "execution_count": 26,
   "metadata": {},
   "outputs": [
    {
     "name": "stdout",
     "output_type": "stream",
     "text": [
      "Enter a marks for Maths::55\n",
      "Enter a value for Science::54\n",
      "Enter a value for physics::45\n",
      "Enter a value for english::65\n",
      "Pass\n"
     ]
    }
   ],
   "source": [
    "math = input(\"Enter a marks for Maths::\")\n",
    "sci = input(\"Enter a value for Science::\")\n",
    "phy = input(\"Enter a value for physics::\")\n",
    "eng = input(\"Enter a value for english::\")\n",
    "if int(math) >= 40 and int(sci) >= 40 and int(phy) >= 40 and int(eng) >= 40:print (\"Pass\")"
   ]
  },
  {
   "cell_type": "code",
   "execution_count": 27,
   "metadata": {},
   "outputs": [
    {
     "name": "stdout",
     "output_type": "stream",
     "text": [
      "Enter a value for Maths::58\n",
      "Enter a value for Science::25\n",
      "Enter a value for physics::69\n",
      "Enter a value for english::20\n",
      "Failed in SCIENCE\n"
     ]
    }
   ],
   "source": [
    "math = int(input(\"Enter a value for Maths::\"))\n",
    "sci = int(input(\"Enter a value for Science::\"))\n",
    "phy = int(input(\"Enter a value for physics::\"))\n",
    "eng = int(input(\"Enter a value for english::\"))\n",
    "if math >= 40:\n",
    "    if sci >= 40:\n",
    "        if phy >= 40:\n",
    "            if eng >= 40:\n",
    "                print (\"PASS\")\n",
    "            else:\n",
    "                print (\"Failed in ENGLISH\")\n",
    "        else:\n",
    "            print (\"Failed in PHYSICS\")\n",
    "    else:\n",
    "        print (\"Failed in SCIENCE\")\n",
    "else:\n",
    "    print (\"Failed in MATHS\")"
   ]
  },
  {
   "cell_type": "code",
   "execution_count": 28,
   "metadata": {},
   "outputs": [
    {
     "name": "stdout",
     "output_type": "stream",
     "text": [
      "Enter a value for Maths::48\n",
      "Enter a value for Science::54\n",
      "Enter a value for physics::25\n",
      "Enter a value for english::35\n",
      "Status:FAIL\n",
      "***********************************\n",
      "Student Marks\n",
      "***********************************\n",
      "Maths       : 48\n",
      "Science     : 54\n",
      "Physics     : 25\n",
      "English     : 35\n",
      "***********************************\n",
      "Total marks : 162\n",
      "***********************************\n"
     ]
    }
   ],
   "source": [
    "math = int(input(\"Enter a value for Maths::\"))\n",
    "sci = int(input(\"Enter a value for Science::\"))\n",
    "phy = int(input(\"Enter a value for physics::\"))\n",
    "eng = int(input(\"Enter a value for english::\"))\n",
    "totmarks = math + sci + phy + eng\n",
    "if math >= 40:\n",
    "    if sci >= 40:\n",
    "        if phy >= 40:\n",
    "            if eng >= 40:\n",
    "                print (\"Status:PASS\")\n",
    "                print (\"***********************************\")\n",
    "                print (\"Student Marks\")\n",
    "                print (\"***********************************\")\n",
    "                print (\"Maths       :\",math)\n",
    "                print (\"Science     :\",sci)\n",
    "                print (\"Physics     :\",phy)\n",
    "                print (\"English     :\",eng)\n",
    "                print (\"***********************************\")\n",
    "                print (\"Total marks :\",totmarks)\n",
    "                print (\"***********************************\")\n",
    "            else:\n",
    "                print (\"Status:FAIL\")\n",
    "                print (\"***********************************\")\n",
    "                print (\"Student Marks\")\n",
    "                print (\"***********************************\")\n",
    "                print (\"Maths       :\",math)\n",
    "                print (\"Science     :\",sci)\n",
    "                print (\"Physics     :\",phy)\n",
    "                print (\"English     :\",eng)\n",
    "                print (\"***********************************\")\n",
    "                print (\"Total marks :\",totmarks)\n",
    "                print (\"***********************************\")\n",
    "        else:\n",
    "            print (\"Status:FAIL\")\n",
    "            print (\"***********************************\")\n",
    "            print (\"Student Marks\")\n",
    "            print (\"***********************************\")\n",
    "            print (\"Maths       :\",math)\n",
    "            print (\"Science     :\",sci)\n",
    "            print (\"Physics     :\",phy)\n",
    "            print (\"English     :\",eng)\n",
    "            print (\"***********************************\")\n",
    "            print (\"Total marks :\",totmarks)\n",
    "            print (\"***********************************\")\n",
    "    else:\n",
    "        print (\"Status:FAIL\")\n",
    "        print (\"***********************************\")\n",
    "        print (\"Student Marks\")\n",
    "        print (\"***********************************\")\n",
    "        print (\"Maths       :\",math)\n",
    "        print (\"Science     :\",sci)\n",
    "        print (\"Physics     :\",phy)\n",
    "        print (\"English     :\",eng)\n",
    "        print (\"***********************************\")\n",
    "        print (\"Total marks :\",totmarks)\n",
    "        print (\"***********************************\")\n",
    "else:\n",
    "    print (\"Status:FAIL\")\n",
    "    print (\"***********************************\")\n",
    "    print (\"Student Marks\")\n",
    "    print (\"***********************************\")\n",
    "    print (\"Maths       :\",math)\n",
    "    print (\"Science     :\",sci)\n",
    "    print (\"Physics     :\",phy)\n",
    "    print (\"English     :\",eng)\n",
    "    print (\"***********************************\")\n",
    "    print (\"Total marks :\",totmarks)\n",
    "    print (\"***********************************\")"
   ]
  },
  {
   "cell_type": "code",
   "execution_count": null,
   "metadata": {},
   "outputs": [],
   "source": []
  }
 ],
 "metadata": {
  "kernelspec": {
   "display_name": "Python 3",
   "language": "python",
   "name": "python3"
  },
  "language_info": {
   "codemirror_mode": {
    "name": "ipython",
    "version": 3
   },
   "file_extension": ".py",
   "mimetype": "text/x-python",
   "name": "python",
   "nbconvert_exporter": "python",
   "pygments_lexer": "ipython3",
   "version": "3.7.1"
  }
 },
 "nbformat": 4,
 "nbformat_minor": 1
}
