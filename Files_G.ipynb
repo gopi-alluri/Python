{
 "cells": [
  {
   "cell_type": "code",
   "execution_count": null,
   "metadata": {},
   "outputs": [],
   "source": [
    "# Files"
   ]
  },
  {
   "cell_type": "code",
   "execution_count": null,
   "metadata": {},
   "outputs": [],
   "source": [
    "# open(filename, mode)\n",
    "# modes:\n",
    "# r - read a file\n",
    "# r+ - read and write a file\n",
    "# rb - read a binary file\n",
    "# rb+ - read and write a binary file\n",
    "# w - create a new file\n",
    "# w+ - Create a new file and read it\n",
    "# wb - create a new binary file\n",
    "# wb+ - create a binary file and readt it\n",
    "# a - append the file\n",
    "# a+ - append and read the file\n",
    "# ab - append a binary file\n",
    "# ab+ - append a binary file and read it\n"
   ]
  },
  {
   "cell_type": "code",
   "execution_count": null,
   "metadata": {},
   "outputs": [],
   "source": [
    "fobj = open(\"C:/Users/AGKR/1pythonfiles/test.txt\", \"r\")"
   ]
  },
  {
   "cell_type": "code",
   "execution_count": null,
   "metadata": {},
   "outputs": [],
   "source": [
    "print(fobj.closed)\n",
    "print(fobj.name)\n",
    "print(fobj.fileno())\n",
    "print(fobj.writable())\n",
    "print(fobj.readable())\n",
    "print(fobj.seekable())\n",
    "print(fobj.mode)\n",
    "print(fobj.close())\n",
    "print(fobj.closed)"
   ]
  },
  {
   "cell_type": "code",
   "execution_count": 1,
   "metadata": {},
   "outputs": [],
   "source": [
    "file = \"C:/Users/AGKR/1pythonfiles/test.txt\"\n",
    "fobj2 = open(file)\n",
    "\n"
   ]
  },
  {
   "cell_type": "code",
   "execution_count": null,
   "metadata": {},
   "outputs": [],
   "source": [
    "fobj2.read(7)"
   ]
  },
  {
   "cell_type": "code",
   "execution_count": null,
   "metadata": {},
   "outputs": [],
   "source": [
    "fobj2.tell() # displays curser position"
   ]
  },
  {
   "cell_type": "code",
   "execution_count": 2,
   "metadata": {},
   "outputs": [
    {
     "name": "stdout",
     "output_type": "stream",
     "text": [
      "Hello Python\n",
      "GM\n",
      "Bye\n"
     ]
    },
    {
     "data": {
      "text/plain": [
       "21"
      ]
     },
     "execution_count": 2,
     "metadata": {},
     "output_type": "execute_result"
    }
   ],
   "source": [
    "fobj2.seek(0)\n",
    "print(fobj2.read(30))\n",
    "fobj2.tell()\n"
   ]
  },
  {
   "cell_type": "code",
   "execution_count": null,
   "metadata": {},
   "outputs": [],
   "source": [
    "fobj1.close()"
   ]
  },
  {
   "cell_type": "code",
   "execution_count": 13,
   "metadata": {},
   "outputs": [
    {
     "data": {
      "text/plain": [
       "0"
      ]
     },
     "execution_count": 13,
     "metadata": {},
     "output_type": "execute_result"
    }
   ],
   "source": [
    "fobj2.seek(0)"
   ]
  },
  {
   "cell_type": "code",
   "execution_count": 11,
   "metadata": {},
   "outputs": [
    {
     "name": "stdout",
     "output_type": "stream",
     "text": [
      "Hello Python\n",
      "\n"
     ]
    }
   ],
   "source": [
    "print(fobj2.readline())"
   ]
  },
  {
   "cell_type": "code",
   "execution_count": 14,
   "metadata": {},
   "outputs": [
    {
     "name": "stdout",
     "output_type": "stream",
     "text": [
      "['Hello Python\\n', 'GM\\n', 'Bye']\n"
     ]
    }
   ],
   "source": [
    "print(fobj2.readlines())"
   ]
  },
  {
   "cell_type": "code",
   "execution_count": 7,
   "metadata": {},
   "outputs": [
    {
     "name": "stdout",
     "output_type": "stream",
     "text": [
      "\n"
     ]
    }
   ],
   "source": [
    "print(fobj2.readline(5))"
   ]
  },
  {
   "cell_type": "code",
   "execution_count": null,
   "metadata": {},
   "outputs": [],
   "source": [
    "# mode r+"
   ]
  },
  {
   "cell_type": "code",
   "execution_count": 12,
   "metadata": {},
   "outputs": [],
   "source": [
    "f1 = \"C:/Users/AGKR/1pythonfiles/test.txt\"\n",
    "fobj1 = open(f1, \"r+\")"
   ]
  },
  {
   "cell_type": "code",
   "execution_count": 13,
   "metadata": {},
   "outputs": [
    {
     "data": {
      "text/plain": [
       "'Hello P'"
      ]
     },
     "execution_count": 13,
     "metadata": {},
     "output_type": "execute_result"
    }
   ],
   "source": [
    "fobj1.read(7)"
   ]
  },
  {
   "cell_type": "code",
   "execution_count": 14,
   "metadata": {},
   "outputs": [
    {
     "data": {
      "text/plain": [
       "13"
      ]
     },
     "execution_count": 14,
     "metadata": {},
     "output_type": "execute_result"
    }
   ],
   "source": [
    "fobj1.write(\"\\nGood Morning\")"
   ]
  },
  {
   "cell_type": "code",
   "execution_count": 15,
   "metadata": {},
   "outputs": [],
   "source": [
    "fobj1.close()"
   ]
  },
  {
   "cell_type": "code",
   "execution_count": 30,
   "metadata": {},
   "outputs": [
    {
     "name": "stdout",
     "output_type": "stream",
     "text": [
      "Enter Course Name: java\n",
      "102,ravi,java,5000\n",
      "\n",
      "104,ramu,java,4500\n",
      "\n",
      "107,tullan,java script,3000\n",
      "\n",
      "109,ramana,JAVAscript,2800\n",
      "\n"
     ]
    }
   ],
   "source": [
    "# print all records from a file where course is = input course\n",
    "# this is not taking care of escape caracter in input (c++)\n",
    "# Version 1\n",
    "course = input(\"Enter Course Name: \")\n",
    "try:\n",
    "    f1 = r\"C:\\Users\\AGKR\\1pythonfiles\\students.txt\"\n",
    "    fobj1 = open(f1, 'r')\n",
    "except(FileNotFoundError):\n",
    "    print(\"File is not found at the location\", f1)\n",
    "else:\n",
    "    import re\n",
    "    for i in fobj1:\n",
    "        if re.search(course,i,re.I):\n",
    "            print(i)\n",
    "    fobj1.close()"
   ]
  },
  {
   "cell_type": "code",
   "execution_count": 31,
   "metadata": {},
   "outputs": [
    {
     "name": "stdout",
     "output_type": "stream",
     "text": [
      "Enter Course Name: c++\n",
      "105,somu,c++,3500\n",
      "\n",
      "113,raghu,c++,3400\n"
     ]
    }
   ],
   "source": [
    "# print all records from a file where course is = input course\n",
    "# this is taking care of escape caracter in input (c++)\n",
    "# this is not taking care of substring\n",
    "# Version 2\n",
    "course = input(\"Enter Course Name: \")\n",
    "try:\n",
    "    f1 = r\"C:\\Users\\AGKR\\1pythonfiles\\students.txt\"\n",
    "    fobj1 = open(f1, 'r')\n",
    "except(FileNotFoundError):\n",
    "    print(\"File is not found at the location\", f1)\n",
    "else:\n",
    "    import re\n",
    "    for i in fobj1:\n",
    "        if re.search(re.escape(course),i,re.I):\n",
    "            print(i)\n",
    "    fobj1.close()"
   ]
  },
  {
   "cell_type": "code",
   "execution_count": 1,
   "metadata": {},
   "outputs": [
    {
     "name": "stdout",
     "output_type": "stream",
     "text": [
      "Enter Course Name: java script\n",
      "107,tullan,java script,3000\n",
      "\n",
      "109,ramana,JAVAscript,2800\n",
      "\n"
     ]
    }
   ],
   "source": [
    "# print all records from a file where course is = input course\n",
    "# this is taking care of escape caracter in input (c++)\n",
    "# this is taking care of substring\n",
    "# Version 3\n",
    "course = input(\"Enter Course Name: \").replace(\" \",\"\")\n",
    "try:\n",
    "    f1 = r\"C:\\Users\\AGKR\\1pythonfiles\\students.txt\"\n",
    "    fobj1 = open(f1, 'r')\n",
    "except(FileNotFoundError):\n",
    "    print(\"File is not found at the location\", f1)\n",
    "else:\n",
    "    import re\n",
    "    for i in fobj1:\n",
    "        if re.fullmatch(re.escape(course),i.split(\",\")[2].replace(\" \",\"\"),re.I):\n",
    "            print(i)\n",
    "    fobj1.close()"
   ]
  },
  {
   "cell_type": "code",
   "execution_count": null,
   "metadata": {},
   "outputs": [],
   "source": [
    "class InvalidCourse(Exception):\n",
    "    pass"
   ]
  },
  {
   "cell_type": "code",
   "execution_count": 4,
   "metadata": {},
   "outputs": [
    {
     "name": "stdout",
     "output_type": "stream",
     "text": [
      "Enter Course Name: python3\n",
      "The given course is not existed\n"
     ]
    }
   ],
   "source": [
    "#\n",
    "course = input(\"Enter Course Name: \").replace(\" \",\"\")\n",
    "f1 = r\"C:\\Users\\AGKR\\1pythonfiles\\students.txt\"\n",
    "try:\n",
    "    if re.search('[a-zA-Z]',course):\n",
    "        fobj1 = open(f1)\n",
    "    else:\n",
    "        raise InvalidCourse\n",
    "except(FileNotFoundError):\n",
    "    print(\"File is not found at the location\", f1)\n",
    "else:\n",
    "    import re\n",
    "    count =0\n",
    "    for i in fobj1:\n",
    "        if re.fullmatch(re.escape(course),i.split(\",\")[2].replace(\" \",\"\"),re.I):\n",
    "            print(i)\n",
    "            count +=1\n",
    "    fobj1.close()\n",
    "if count == 0:\n",
    "    print(\"The given course is not existed\")"
   ]
  },
  {
   "cell_type": "code",
   "execution_count": 15,
   "metadata": {},
   "outputs": [
    {
     "name": "stdout",
     "output_type": "stream",
     "text": [
      "python = 3\n",
      "java = 2\n",
      "c++ = 2\n",
      "javascript = 2\n",
      "c = 2\n",
      "scala = 2\n"
     ]
    }
   ],
   "source": [
    "file = r\"C:\\Users\\AGKR\\1pythonfiles\\students.txt\"\n",
    "try:\n",
    "    fobj = open(file)\n",
    "except(FileNotFoundError):\n",
    "    print(\"File not existed\")\n",
    "else:\n",
    "    dict1 = {}\n",
    "    for i in fobj:\n",
    "        course = str.lower(str.replace(i.split(\",\")[2], \" \",\"\"))\n",
    "        dict1.setdefault(course,0)\n",
    "        if course in dict1:\n",
    "            dict1[course] += 1\n",
    "    for course,count in dict1.items():\n",
    "        print(course,\"=\",count)\n",
    "    fobj.close()"
   ]
  },
  {
   "cell_type": "code",
   "execution_count": null,
   "metadata": {},
   "outputs": [],
   "source": [
    "file1 = r\"C:\\Users\\AGKR\\1pythonfiles\\students2.txt\"\n",
    "file2 = r\"C:\\Users\\AGKR\\1pythonfiles\\students.txt\"\n",
    "try:\n",
    "    fobj1 = write(file1, 'w+')\n",
    "    fobj2 = open(file2, 'r')\n",
    "except(FileNotFoundError):\n",
    "    print(\"File not existed\")\n",
    "else:\n",
    "    for i in fobj:"
   ]
  },
  {
   "cell_type": "code",
   "execution_count": null,
   "metadata": {},
   "outputs": [],
   "source": []
  }
 ],
 "metadata": {
  "kernelspec": {
   "display_name": "Python 3",
   "language": "python",
   "name": "python3"
  },
  "language_info": {
   "codemirror_mode": {
    "name": "ipython",
    "version": 3
   },
   "file_extension": ".py",
   "mimetype": "text/x-python",
   "name": "python",
   "nbconvert_exporter": "python",
   "pygments_lexer": "ipython3",
   "version": "3.7.3"
  }
 },
 "nbformat": 4,
 "nbformat_minor": 2
}
