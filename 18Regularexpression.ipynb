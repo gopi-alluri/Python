{
 "cells": [
  {
   "cell_type": "code",
   "execution_count": null,
   
   "metadata": {},
   "outputs": [],
   "source": [
    "# regular expression\n",
    "# Y , y , z"
   ]
  },
  {
   "cell_type": "code",
   "execution_count": 1,
   "metadata": {},
   "outputs": [],
   "source": [
    "import re"
   ]
  },
  {
   "cell_type": "code",
   "execution_count": null,
   "metadata": {},
   "outputs": [],
   "source": [
    "ans=input(\"Do you want to come to institute:\")\n",
    "if ans == \"Yes\":\n",
    "    print (\"You are welcome\")\n",
    "else:\n",
    "    print (\"Take care\")"
   ]
  },
  {
   "cell_type": "code",
   "execution_count": null,
   "metadata": {},
   "outputs": [],
   "source": [
    "print(dir(re))"
   ]
  },
  {
   "cell_type": "code",
   "execution_count": null,
   "metadata": {
    "scrolled": true
   },
   "outputs": [],
   "source": [
    "print(help(re.match))"
   ]
  },
  {
   "cell_type": "code",
   "execution_count": null,
   "metadata": {},
   "outputs": [],
   "source": [
    "print (help(re.search))"
   ]
  },
  {
   "cell_type": "code",
   "execution_count": null,
   "metadata": {},
   "outputs": [],
   "source": [
    "#re.<method>(pattern,string,flag=0)"
   ]
  },
  {
   "cell_type": "code",
   "execution_count": null,
   "metadata": {},
   "outputs": [],
   "source": []
  },
  {
   "cell_type": "code",
   "execution_count": null,
   "metadata": {},
   "outputs": [],
   "source": [
    "str1=\"Jython is one of Python flaour for java\"\n",
    "print (re.match('Jython',str1))\n",
    "print (re.match('Python',str1))"
   ]
  },
  {
   "cell_type": "code",
   "execution_count": null,
   "metadata": {},
   "outputs": [],
   "source": [
    "str1=\"Jython is one of Python flaour for java\"\n",
    "print (re.search('Python',str1))\n",
    "print (re.search('Jython',str1))"
   ]
  },
  {
   "cell_type": "code",
   "execution_count": null,
   "metadata": {},
   "outputs": [],
   "source": [
    "#re.I or re.IGNORECASE\n",
    "str1=\"Jython is one of Python flaour for java\"\n",
    "print (re.match('JYTHON',str1))\n",
    "print (re.match('PYTHON',str1))"
   ]
  },
  {
   "cell_type": "code",
   "execution_count": null,
   "metadata": {},
   "outputs": [],
   "source": [
    "#re.I or re.IGNORECASE\n",
    "str1=\"Jython is one of Python flaour for java\"\n",
    "print (re.match('JYTHON',str1,re.I))\n",
    "print (re.match('PYTHON',str1,re.IGNORECASE))"
   ]
  },
  {
   "cell_type": "code",
   "execution_count": null,
   "metadata": {},
   "outputs": [],
   "source": [
    "#re.I or re.IGNORECASE\n",
    "str1=\"Jython is one of Python flaour for java\"\n",
    "print (re.search('JYTHON',str1,re.I))\n",
    "print (re.search('PYTHON',str1,re.IGNORECASE))"
   ]
  },
  {
   "cell_type": "code",
   "execution_count": null,
   "metadata": {},
   "outputs": [],
   "source": [
    "import re"
   ]
  },
  {
   "cell_type": "code",
   "execution_count": null,
   "metadata": {},
   "outputs": [],
   "source": [
    "str1=\"Python\""
   ]
  },
  {
   "cell_type": "code",
   "execution_count": null,
   "metadata": {},
   "outputs": [],
   "source": [
    "# flags - I  ==> ignore case\n",
    "# flags - added options\n",
    "print (re.search('Pyth',str1))"
   ]
  },
  {
   "cell_type": "code",
   "execution_count": null,
   "metadata": {},
   "outputs": [],
   "source": [
    "ans=input(\"Do you want to come to Office:\")\n",
    "if ans == \"Yes\":\n",
    "    print (\"You are welcome\")\n",
    "else:\n",
    "    print (\"Take care and have rest\")"
   ]
  },
  {
   "cell_type": "code",
   "execution_count": null,
   "metadata": {},
   "outputs": [],
   "source": [
    "ans = input(\"Do you want to come to Office:\")\n",
    "#if ans == \"Yes\":\n",
    "if re.search('YES',ans):\n",
    "    print (\"You are welcome\")\n",
    "else:\n",
    "    print (\"Take care and send a mail\")"
   ]
  },
  {
   "cell_type": "code",
   "execution_count": null,
   "metadata": {},
   "outputs": [],
   "source": [
    "ans = input(\"Do you want to come to Office:\")\n",
    "#if ans == \"Yes\":\n",
    "if re.search('YES',ans,re.IGNORECASE):\n",
    "    print (\"You are welcome\")\n",
    "else:\n",
    "    print (\"Take care and send a mail\")"
   ]
  },
  {
   "cell_type": "code",
   "execution_count": null,
   "metadata": {},
   "outputs": [],
   "source": [
    "ans = input(\"Do you want to come to Office:\")\n",
    "#if ans == \"Yes\":\n",
    "if re.match('YES',ans,re.IGNORECASE):\n",
    "    print (\"You are welcome\")\n",
    "else:\n",
    "    print (\"Take care and send a mail\")"
   ]
  },
  {
   "cell_type": "code",
   "execution_count": null,
   "metadata": {},
   "outputs": [],
   "source": [
    "print (str1)"
   ]
  },
  {
   "cell_type": "code",
   "execution_count": null,
   "metadata": {},
   "outputs": [],
   "source": [
    "str1 = \"python is my first language\"\n",
    "str2 = \"one of my first lanaguage is python\""
   ]
  },
  {
   "cell_type": "code",
   "execution_count": null,
   "metadata": {},
   "outputs": [],
   "source": [
    "print (re.match(\"python\",str1))  # True\n",
    "print (re.match(\"python\",str2))  # False\n",
    "print (re.search(\"python\",str1)) # True\n",
    "print (re.search(\"python\",str2)) # True"
   ]
  },
  {
   "cell_type": "code",
   "execution_count": null,
   "metadata": {},
   "outputs": [],
   "source": [
    "str1 = \"python is my first language\"\n",
    "str2 = \"one of my first lanaguage is python\""
   ]
  },
  {
   "cell_type": "code",
   "execution_count": null,
   "metadata": {},
   "outputs": [],
   "source": [
    "if re.match(\"python\",str1):\n",
    "    print (\"Matched\")\n",
    "else:\n",
    "    print (\"Not Matched\")"
   ]
  },
  {
   "cell_type": "code",
   "execution_count": null,
   "metadata": {},
   "outputs": [],
   "source": [
    "str1=input(\"Enter a string value::\")\n",
    "if re.match(\"[0-9]\",str1):\n",
    "    print(\"Matched\")\n",
    "else:\n",
    "    print(\"Not Matched\")"
   ]
  },
  {
   "cell_type": "code",
   "execution_count": null,
   "metadata": {},
   "outputs": [],
   "source": [
    "if re.search(\"python\",str2):\n",
    "    print (\"Matched\")\n",
    "else:\n",
    "    print (\"Not Matched\")"
   ]
  },
  {
   "cell_type": "code",
   "execution_count": null,
   "metadata": {},
   "outputs": [],
   "source": [
    "str1=input(\"Enter a string value::\")\n",
    "if re.search(\".\",str1):\n",
    "    print(\"Matched\")\n",
    "else:\n",
    "    print(\"Not Matched\")"
   ]
  },
  {
   "cell_type": "code",
   "execution_count": null,
   "metadata": {},
   "outputs": [],
   "source": [
    "str1=input(\"Enter a string value::\")\n",
    "if re.match(\"^[0-9a-z]+$\",str1):\n",
    "    print(\"Matched\")\n",
    "else:\n",
    "    print(\"Not Matched\")"
   ]
  },
  {
   "cell_type": "code",
   "execution_count": null,
   "metadata": {},
   "outputs": [],
   "source": [
    "str1=input(\"Enter a string value::\")\n",
    "if re.match(\"^[0-9]\",str1,re.I):\n",
    "    print(\"Matched\")\n",
    "else:\n",
    "    print(\"Not Matched\")"
   ]
  },
  {
   "cell_type": "code",
   "execution_count": null,
   "metadata": {},
   "outputs": [],
   "source": [
    "str1=input(\"Enter a string value::\")\n",
    "if re.search(\"^[0-9]+$\",str1,re.I):\n",
    "    print(\"Matched\")\n",
    "else:\n",
    "    print(\"Not Matched\")"
   ]
  },
  {
   "cell_type": "code",
   "execution_count": null,
   "metadata": {},
   "outputs": [],
   "source": [
    "ans = input(\"Please enter a string:\")\n",
    "#if ans == \"Yes\":\n",
    "if re.search(\"^[a-z]+$\",ans,re.I):\n",
    "    print (\"Matched\")\n",
    "else:\n",
    "    print (\"Not Matched\")"
   ]
  },
  {
   "cell_type": "code",
   "execution_count": null,
   "metadata": {},
   "outputs": [],
   "source": [
    "str1=input()\n",
    "if re.search(\"python*\",str1):\n",
    "    print(\"M\")\n",
    "else:\n",
    "    print(\"NM\")"
   ]
  },
  {
   "cell_type": "code",
   "execution_count": null,
   "metadata": {},
   "outputs": [],
   "source": [
    "str1=input()\n",
    "if re.search(\"python.\",str1):\n",
    "    print(\"M\")\n",
    "else:\n",
    "    print(\"NM\")"
   ]
  },
  {
   "cell_type": "code",
   "execution_count": null,
   "metadata": {},
   "outputs": [],
   "source": [
    "str1=input()\n",
    "if re.search(\"[0-9]*\",str1):\n",
    "    print(\"M\")\n",
    "else:\n",
    "    print(\"NM\")"
   ]
  },
  {
   "cell_type": "code",
   "execution_count": null,
   "metadata": {},
   "outputs": [],
   "source": [
    "str1=input()\n",
    "if re.search(\"[0-9].\",str1):\n",
    "    print(\"M\")\n",
    "else:\n",
    "    print(\"NM\")"
   ]
  },
  {
   "cell_type": "code",
   "execution_count": null,
   "metadata": {},
   "outputs": [],
   "source": [
    "str1=input()\n",
    "if re.search(\"[0-9].[0-9]\",str1):\n",
    "    print(\"M\")\n",
    "else:\n",
    "    print(\"NM\")"
   ]
  },
  {
   "cell_type": "code",
   "execution_count": null,
   "metadata": {},
   "outputs": [],
   "source": [
    "str1=input()\n",
    "if re.search(\"^[789][0-9]{9}$\",str1):\n",
    "    print(\"Matched\")\n",
    "else:\n",
    "    print(\"Not Matched\")"
   ]
  },
  {
   "cell_type": "code",
   "execution_count": null,
   "metadata": {},
   "outputs": [],
   "source": [
    "str1=input()\n",
    "if re.search(\"^[789][0-9]{7,9}$\",str1):\n",
    "    print(\"Matched\")\n",
    "else:\n",
    "    print(\"Not Matched\")"
   ]
  },
  {
   "cell_type": "code",
   "execution_count": null,
   "metadata": {},
   "outputs": [],
   "source": [
    "str1=input()\n",
    "if re.search(\"^[789][0-9]+$\",str1):\n",
    "    print(\"Matched\")\n",
    "else:\n",
    "    print(\"Not Matched\")"
   ]
  },
  {
   "cell_type": "code",
   "execution_count": null,
   "metadata": {},
   "outputs": [],
   "source": [
    "str1=input()\n",
    "if re.search(\"Python#?\",str1):\n",
    "    print(\"Matched\")\n",
    "else:\n",
    "    print(\"Not Matched\")"
   ]
  },
  {
   "cell_type": "code",
   "execution_count": null,
   "metadata": {},
   "outputs": [],
   "source": [
    "str1=input()\n",
    "if re.search(\"Python#*\",str1):\n",
    "    print(\"Matched\")\n",
    "else:\n",
    "    print(\"Not Matched\")"
   ]
  },
  {
   "cell_type": "code",
   "execution_count": null,
   "metadata": {},
   "outputs": [],
   "source": [
    "str1=input()\n",
    "if re.search(\"Python#.\",str1):\n",
    "    print(\"Matched\")\n",
    "else:\n",
    "    print(\"Not Matched\")"
   ]
  },
  {
   "cell_type": "code",
   "execution_count": null,
   "metadata": {
    "scrolled": true
   },
   "outputs": [],
   "source": [
    "email = input(\"Please enter a email:\")\n",
    "#if ans == \"Yes\":\n",
    "if re.search(\"^[a-zA-Z0-9-_]+@[a-zA-Z0-9-]+\\.[a-zA-Z0-9-.]+$\",email):\n",
    "    print (\"Matched\")\n",
    "else:\n",
    "    print (\"Not Matched\")"
   ]
  },
  {
   "cell_type": "code",
   "execution_count": null,
   "metadata": {},
   "outputs": [],
   "source": []
  },
  {
   "cell_type": "code",
   "execution_count": null,
   "metadata": {},
   "outputs": [],
   "source": []
  },
  {
   "cell_type": "code",
   "execution_count": null,
   "metadata": {},
   "outputs": [],
   "source": [
    "ans = input(\"Please enter a string:\")\n",
    "#if ans == \"Yes\":\n",
    "if re.search(\"^[0-9]$\",ans):\n",
    "    print (\"Matched\")\n",
    "else:\n",
    "    print (\"Not Matched\")"
   ]
  },
  {
   "cell_type": "code",
   "execution_count": null,
   "metadata": {},
   "outputs": [],
   "source": [
    "str1= input()\n",
    "if re.search(\"\\w\",str1):\n",
    "    print (\"Matched\")\n",
    "els e:\n",
    "    print (\"Not Matched\")"
   ]
  },
  {
   "cell_type": "code",
   "execution_count": null,
   "metadata": {},
   "outputs": [],
   "source": [
    "ans = input(\"Please enter a string:\")\n",
    "#if ans == \"Yes\":\n",
    "if re.search(\"^[a-d]+[A-Z]+[0-9]$\",ans):\n",
    "    print (\"Matched\")\n",
    "else:\n",
    "    print (\"Not Matched\")"
   ]
  },
  {
   "cell_type": "code",
   "execution_count": null,
   "metadata": {},
   "outputs": [],
   "source": [
    "ans = input(\"Please enter a string:\")\n",
    "#if ans == \"Yes\":\n",
    "if re.search(\"^[a-d]$\",ans):\n",
    "    print (\"Matched\")\n",
    "else:\n",
    "    print (\"Not Matched\")"
   ]
  },
  {
   "cell_type": "code",
   "execution_count": null,
   "metadata": {},
   "outputs": [],
   "source": []
  },
  {
   "cell_type": "code",
   "execution_count": null,
   "metadata": {},
   "outputs": [],
   "source": [
    "ans = input(\"Please enter a string:\")\n",
    "#if ans == \"Yes\":\n",
    "if re.search(\"^[a-d]+[A-Z]+[0-9]$\",ans):\n",
    "    print (\"Matched\")\n",
    "else:\n",
    "    print (\"Not Matched\")"
   ]
  },
  {
   "cell_type": "code",
   "execution_count": null,
   "metadata": {},
   "outputs": [],
   "source": [
    "import re"
   ]
  },
  {
   "cell_type": "code",
   "execution_count": null,
   "metadata": {},
   "outputs": [],
   "source": [
    "emailcheck=re.compile(\"^[a-zA-Z0-9-_]+@[a-zA-Z0-9-]+\\.[a-zA-Z0-9-.]+$\")"
   ]
  },
  {
   "cell_type": "code",
   "execution_count": null,
   "metadata": {},
   "outputs": [],
   "source": [
    "emailcheck.search(\"RAJU@gmail.com\")"
   ]
  },
  {
   "cell_type": "code",
   "execution_count": null,
   "metadata": {},
   "outputs": [],
   "source": [
    "email = input(\"Please enter a email::\")\n",
    "#if ans == \"Yes\":\n",
    "if emailcheck.search(email):\n",
    "    print (\"Matched\")\n",
    "else:\n",
    "    print (\"Not Matched\")"
   ]
  },
  {
   "cell_type": "code",
   "execution_count": null,
   "metadata": {},
   "outputs": [],
   "source": [
    "ans = input(\"Please enter a string:\")\n",
    "#if ans == \"Yes\":\n",
    "if re.search(\"^[0-9]\",ans):\n",
    "    print (\"Matched\")\n",
    "else:\n",
    "    print (\"Not Matched\")"
   ]
  },
  {
   "cell_type": "code",
   "execution_count": null,
   "metadata": {},
   "outputs": [],
   "source": [
    "# re.split"
   ]
  },
  {
   "cell_type": "code",
   "execution_count": null,
   "metadata": {},
   "outputs": [],
   "source": [
    "print(re.split(\" \",'i like python programming'))"
   ]
  },
  {
   "cell_type": "code",
   "execution_count": null,
   "metadata": {},
   "outputs": [],
   "source": [
    "print(re.split(\" \",'i like python programming')[2])"
   ]
  },
  {
   "cell_type": "code",
   "execution_count": null,
   "metadata": {},
   "outputs": [],
   "source": [
    "a=re.split(\" \",\"i like python programming\")"
   ]
  },
  {
   "cell_type": "code",
   "execution_count": null,
   "metadata": {},
   "outputs": [],
   "source": [
    "print(a)"
   ]
  },
  {
   "cell_type": "code",
   "execution_count": null,
   "metadata": {},
   "outputs": [],
   "source": [
    "print(re.split(\"\\W\",\"i like python programming\"))"
   ]
  },
  {
   "cell_type": "code",
   "execution_count": null,
   "metadata": {},
   "outputs": [],
   "source": [
    "str1=\"i like 123 programmin #@ 1 of python _ 100\"\n",
    "print(re.split(\"\\w+\",str1))"
   ]
  },
  {
   "cell_type": "code",
   "execution_count": null,
   "metadata": {},
   "outputs": [],
   "source": [
    "b=re.split(\"\\W\",\"i like python programming language, and, i love india\")"
   ]
  },
  {
   "cell_type": "code",
   "execution_count": null,
   "metadata": {},
   "outputs": [],
   "source": [
    "print(b)"
   ]
  },
  {
   "cell_type": "code",
   "execution_count": null,
   "metadata": {},
   "outputs": [],
   "source": [
    "print(re.split(\" \",\"i like python programming language, and, i love india\"))"
   ]
  },
  {
   "cell_type": "code",
   "execution_count": null,
   "metadata": {},
   "outputs": [],
   "source": [
    "import re"
   ]
  },
  {
   "cell_type": "code",
   "execution_count": null,
   "metadata": {},
   "outputs": [],
   "source": [
    "c=re.split(\",\",\"i like python programming language, and, i love india\")"
   ]
  },
  {
   "cell_type": "code",
   "execution_count": null,
   "metadata": {},
   "outputs": [],
   "source": [
    "print(c)"
   ]
  },
  {
   "cell_type": "code",
   "execution_count": null,
   "metadata": {},
   "outputs": [],
   "source": [
    "print(re.split('\\W','raju@gmail.com'))"
   ]
  },
  {
   "cell_type": "code",
   "execution_count": null,
   "metadata": {},
   "outputs": [],
   "source": [
    "print(re.split('\\W','raju123@gmail.com'))"
   ]
  },
  {
   "cell_type": "code",
   "execution_count": null,
   "metadata": {},
   "outputs": [],
   "source": [
    "print(re.split('\\W','raju_123@gmail.com'))"
   ]
  },
  {
   "cell_type": "code",
   "execution_count": null,
   "metadata": {},
   "outputs": [],
   "source": [
    "print(re.split('\\W+','raju.123@gmail.com'))"
   ]
  },
  {
   "cell_type": "code",
   "execution_count": null,
   "metadata": {},
   "outputs": [],
   "source": [
    "print(re.split('\\W','raju-123@gmail.com'))"
   ]
  },
  {
   "cell_type": "code",
   "execution_count": null,
   "metadata": {},
   "outputs": [],
   "source": [
    "#re.compile"
   ]
  },
  {
   "cell_type": "code",
   "execution_count": null,
   "metadata": {
    "scrolled": true
   },
   "outputs": [],
   "source": [
    "str1=input(\"Enter a value::\")\n",
    "if re.search(\"^[789][0-9]{9}$\",str1):\n",
    "    print(\"matched\")\n",
    "else:\n",
    "    print(\"Not Matched\")"
   ]
  },
  {
   "cell_type": "code",
   "execution_count": null,
   "metadata": {},
   "outputs": [],
   "source": [
    "phonecheck=re.compile(\"^[987][0-9]{9}$\")"
   ]
  },
  {
   "cell_type": "code",
   "execution_count": null,
   "metadata": {},
   "outputs": [],
   "source": [
    "str1=input(\"Enter a value::\")\n",
    "if phonecheck.search(str1):\n",
    "    print(\"matched\")\n",
    "else:\n",
    "    print(\"Not Matched\")"
   ]
  },
  {
   "cell_type": "code",
   "execution_count": null,
   "metadata": {},
   "outputs": [],
   "source": [
    "#re.sub"
   ]
  },
  {
   "cell_type": "code",
   "execution_count": null,
   "metadata": {},
   "outputs": [],
   "source": [
    "print(help(re.sub))"
   ]
  },
  {
   "cell_type": "markdown",
   "metadata": {},
   "source": [
    "\"bombay is the financial bombay BOMBAY capital of india we call it sometimes as bombai\""
   ]
  },
  {
   "cell_type": "code",
   "execution_count": null,
   "metadata": {},
   "outputs": [],
   "source": [
    "import re\n",
    "STR1=\"Bombay is the financial bombay BOMBAY capital of india we call it sometimes as bombai\"\n",
    "print(re.sub(\"Bombay\",\"Mumbai\",STR1,count=0))"
   ]
  },
  {
   "cell_type": "code",
   "execution_count": null,
   "metadata": {},
   "outputs": [],
   "source": [
    "import re\n",
    "STR1=\"Bombay is the financial bombay BOMBAY capital of india we call it sometimes as bombai\"\n",
    "print(re.sub(\"Bombay\",\"Mumbai\",STR1,count=0,flags=re.I))"
   ]
  },
  {
   "cell_type": "code",
   "execution_count": null,
   "metadata": {},
   "outputs": [],
   "source": [
    "import re\n",
    "STR1=\"Bombay is the financial bombay BOMBAY capital of india we call it sometimes as bombai\"\n",
    "print(re.sub(\"Bombay\",\"Mumbai\",STR1,count=2,flags=re.I))"
   ]
  },
  {
   "cell_type": "code",
   "execution_count": null,
   "metadata": {},
   "outputs": [],
   "source": [
    "import re\n",
    "STR1=\"Bombay is the financial bombay BOMBAY capital of india we call it sometimes as bombai\"\n",
    "print(re.sub(\"(Bombay|bombai)\",\"Mumbai\",STR1,count=0,flags=re.I))"
   ]
  },
  {
   "cell_type": "code",
   "execution_count": null,
   "metadata": {},
   "outputs": [],
   "source": [
    "print(help(re.subn))"
   ]
  },
  {
   "cell_type": "code",
   "execution_count": null,
   "metadata": {},
   "outputs": [],
   "source": [
    "import re\n",
    "STR1=\"Bombay is the fin capital of india bombay BOMBAY capital of bombai india\"\n",
    "print(re.subn(\"(Bombay|bombai)\",\"Mumbai\",STR1,count=0,flags=re.I))"
   ]
  },
  {
   "cell_type": "code",
   "execution_count": null,
   "metadata": {},
   "outputs": [],
   "source": [
    "re.sub(\"(bombay|bombai)\",\"mumbai\",\"bombay is the financial capital of india and bombai is good\")"
   ]
  },
  {
   "cell_type": "code",
   "execution_count": null,
   "metadata": {},
   "outputs": [],
   "source": [
    "rep=re.compile(\"(bombay|bombai)\")"
   ]
  },
  {
   "cell_type": "code",
   "execution_count": null,
   "metadata": {},
   "outputs": [],
   "source": [
    "print(rep.sub(\"mumbai\",\"bombay is the finc city bombai\"))"
   ]
  },
  {
   "cell_type": "code",
   "execution_count": null,
   "metadata": {},
   "outputs": [],
   "source": [
    "print(re.subn(\"a\",\"e\",\"walcoma\",count=0,flags=re.I))"
   ]
  },
  {
   "cell_type": "code",
   "execution_count": null,
   "metadata": {},
   "outputs": [],
   "source": [
    "import re"
   ]
  },
  {
   "cell_type": "code",
   "execution_count": null,
   "metadata": {},
   "outputs": [],
   "source": [
    "# {}\n",
    "str1=input(\"Enter a string::\")\n",
    "if re.match(\"^[0-9]{2}$\",str1,re.I):\n",
    "    print(\"Matched\")\n",
    "else:\n",
    "    print(\"Not Matched\")"
   ]
  },
  {
   "cell_type": "code",
   "execution_count": null,
   "metadata": {},
   "outputs": [],
   "source": [
    "#91 series match\n",
    "str1=input(\"Enter a string::\")\n",
    "if re.match(\"^91[0-9]{2}$\",str1,re.I):\n",
    "    print(\"Matched\")\n",
    "else:\n",
    "    print(\"Not Matched\")"
   ]
  },
  {
   "cell_type": "code",
   "execution_count": null,
   "metadata": {},
   "outputs": [],
   "source": [
    "str1=input(\"Enter a string::\")\n",
    "if re.match(\"\\w\",str1,re.I):\n",
    "    print(\"Matched\")\n",
    "else:\n",
    "    print(\"Not Matched\")"
   ]
  },
  {
   "cell_type": "code",
   "execution_count": null,
   "metadata": {},
   "outputs": [],
   "source": [
    "str1=input(\"Enter a string::\")\n",
    "if re.search(\"^\\W{3}$\",str1):\n",
    "    print(\"Matched\")\n",
    "else:\n",
    "    print(\"Not Matched\")"
   ]
  },
  {
   "cell_type": "code",
   "execution_count": null,
   "metadata": {},
   "outputs": [],
   "source": [
    "str1=input(\"Enter a string::\")\n",
    "if re.search(\"a*b\",str1):\n",
    "    print(\"Matched\")\n",
    "else:\n",
    "    print(\"Not Matched\")"
   ]
  },
  {
   "cell_type": "code",
   "execution_count": null,
   "metadata": {},
   "outputs": [],
   "source": [
    "#split\n",
    "x=re.split(\"\\w\",\"$%$#r#$%#$2&%^&\")"
   ]
  },
  {
   "cell_type": "code",
   "execution_count": null,
   "metadata": {},
   "outputs": [],
   "source": [
    "import re\n",
    "#findall "
   ]
  },
  {
   "cell_type": "code",
   "execution_count": null,
   "metadata": {},
   "outputs": [],
   "source": [
    "print(help(re.findall))"
   ]
  },
  {
   "cell_type": "code",
   "execution_count": null,
   "metadata": {},
   "outputs": [],
   "source": [
    "str1=\"welcome 111 python #@_-. programming 123\"\n",
    "print(re.findall('\\d',str1))"
   ]
  },
  {
   "cell_type": "code",
   "execution_count": null,
   "metadata": {},
   "outputs": [],
   "source": [
    "str1=\"welcome 111 python #@ programming 123\"\n",
    "print(re.findall('\\d+',str1))"
   ]
  },
  {
   "cell_type": "code",
   "execution_count": null,
   "metadata": {},
   "outputs": [],
   "source": [
    "str1=\"welcome 111 python #@ programming 123\"\n",
    "print(re.findall('\\w',str1))"
   ]
  },
  {
   "cell_type": "code",
   "execution_count": null,
   "metadata": {},
   "outputs": [],
   "source": [
    "str1=\"welcome 111  python  #@ programming 123\"\n",
    "print(re.findall('\\w+',str1))"
   ]
  },
  {
   "cell_type": "code",
   "execution_count": null,
   "metadata": {},
   "outputs": [],
   "source": [
    "str1=\"welcome 111 python #@ programming 123\"\n",
    "print(re.findall('\\W',str1))"
   ]
  },
  {
   "cell_type": "code",
   "execution_count": null,
   "metadata": {},
   "outputs": [],
   "source": [
    "str1=\"welcome 111  python #@  programming 123\"\n",
    "print(re.findall('\\W+',str1))"
   ]
  },
  {
   "cell_type": "code",
   "execution_count": null,
   "metadata": {},
   "outputs": [],
   "source": [
    "str1=\"welcome 111 python #@ programming 123\"\n",
    "print(re.findall('\\s',str1))    "
   ]
  },
  {
   "cell_type": "code",
   "execution_count": null,
   "metadata": {},
   "outputs": [],
   "source": [
    "str1=\"welcome 111 python #@ programming 123\"\n",
    "print(re.findall('\\s+',str1)) "
   ]
  },
  {
   "cell_type": "code",
   "execution_count": null,
   "metadata": {},
   "outputs": [],
   "source": [
    "str1=\"welcome 111 python #@ programming 123\"\n",
    "print(re.findall('\\S',str1)) "
   ]
  },
  {
   "cell_type": "code",
   "execution_count": null,
   "metadata": {},
   "outputs": [],
   "source": [
    "str1=\"welcome 111 python #@ programming 123\"\n",
    "print(re.findall('\\S+',str1)) "
   ]
  },
  {
   "cell_type": "code",
   "execution_count": null,
   "metadata": {},
   "outputs": [],
   "source": [
    "str1=\"raju.raju@gmail.com\"\n",
    "print(re.findall('\\D+',str1)) "
   ]
  },
  {
   "cell_type": "code",
   "execution_count": null,
   "metadata": {},
   "outputs": [],
   "source": [
    "# 10 digit contact number\n",
    "contact=input(\"Enter contact number::\")\n",
    "if re.search(\"^[0-9][0-9][0-9][0-9][0-9][0-9][0-9][0-9][0-9][0-9]$\",contact):\n",
    "    print(\"Valid Number\")\n",
    "else:\n",
    "    print(\"Invalid Number\")"
   ]
  },
  {
   "cell_type": "code",
   "execution_count": null,
   "metadata": {},
   "outputs": [],
   "source": [
    "#escape\n",
    "print(re.escape(\"python.org\"))"
   ]
  },
  {
   "cell_type": "code",
   "execution_count": null,
   "metadata": {},
   "outputs": [],
   "source": [
    "str1=\"python.org\"\n",
    "print(re.search(re.escape(\"python.org\"),\"welcome to python.org files\"))"
   ]
  },
  {
   "cell_type": "code",
   "execution_count": null,
   "metadata": {},
   "outputs": [],
   "source": [
    "str1=\"python tutorial available in python.1234org website\"\n",
    "print(re.search(\"python.org\",str1))"
   ]
  },
  {
   "cell_type": "code",
   "execution_count": null,
   "metadata": {},
   "outputs": [],
   "source": [
    "str1=input()\n",
    "if re.match(\"^[0-9][0-9]?[0-9]$\",str1):\n",
    "    print(\"matched\")\n",
    "else:\n",
    "    print(\"Not matched\")"
   ]
  },
  {
   "cell_type": "code",
   "execution_count": null,
   "metadata": {},
   "outputs": [],
   "source": [
    "# \"^9([0-9]{2})?([0-9]{7})$\""
   ]
  },
  {
   "cell_type": "code",
   "execution_count": null,
   "metadata": {},
   "outputs": [],
   "source": [
    "m = re.match(r\"(\\d+),(\\d+),(\\d+),(\\d+)\", \"24,1632,234,677\")"
   ]
  },
  {
   "cell_type": "code",
   "execution_count": null,
   "metadata": {},
   "outputs": [],
   "source": [
    "m.groups()"
   ]
  },
  {
   "cell_type": "code",
   "execution_count": null,
   "metadata": {},
   "outputs": [],
   "source": [
    "m.group(2)"
   ]
  },
  {
   "cell_type": "code",
   "execution_count": null,
   "metadata": {},
   "outputs": [],
   "source": []
  },
  {
   "cell_type": "code",
   "execution_count": null,
   "metadata": {},
   "outputs": [],
   "source": [
    "#groupdict"
   ]
  },
  {
   "cell_type": "code",
   "execution_count": null,
   "metadata": {},
   "outputs": [],
   "source": [
    "m.groupdict()"
   ]
  },
  {
   "cell_type": "code",
   "execution_count": null,
   "metadata": {},
   "outputs": [],
   "source": [
    "m=re.match(\"(?P<sid>\\d+),(?P<sname>\\w+)\", \"101,raju\")"
   ]
  },
  {
   "cell_type": "code",
   "execution_count": null,
   "metadata": {},
   "outputs": [],
   "source": [
    "m.groupdict()"
   ]
  },
  {
   "cell_type": "code",
   "execution_count": null,
   "metadata": {},
   "outputs": [],
   "source": [
    "# group , start , end , span\n",
    "import re"
   ]
  },
  {
   "cell_type": "code",
   "execution_count": null,
   "metadata": {},
   "outputs": [],
   "source": [
    "x1=re.compile(\"[0-9]+\")"
   ]
  },
  {
   "cell_type": "code",
   "execution_count": null,
   "metadata": {},
   "outputs": [],
   "source": [
    "x2=x1.search(\"python 123 #@& 321 java\")"
   ]
  },
  {
   "cell_type": "code",
   "execution_count": null,
   "metadata": {},
   "outputs": [],
   "source": [
    "print(x2.group())"
   ]
  },
  {
   "cell_type": "code",
   "execution_count": null,
   "metadata": {},
   "outputs": [],
   "source": [
    "x2.start()"
   ]
  },
  {
   "cell_type": "code",
   "execution_count": null,
   "metadata": {},
   "outputs": [],
   "source": [
    "x2.end()"
   ]
  },
  {
   "cell_type": "code",
   "execution_count": null,
   "metadata": {},
   "outputs": [],
   "source": [
    "x2.span()"
   ]
  },
  {
   "cell_type": "code",
   "execution_count": null,
   "metadata": {},
   "outputs": [],
   "source": [
    "# difference between group and groups\n",
    "import re"
   ]
  },
  {
   "cell_type": "code",
   "execution_count": null,
   "metadata": {},
   "outputs": [],
   "source": [
    "#(a(bc)d)  ,  \n",
    "#r1=re.compile('(a(bc)(cd))')\n",
    "r1=re.compile('(a(bc)(cd)(cde))')"
   ]
  },
  {
   "cell_type": "code",
   "execution_count": null,
   "metadata": {},
   "outputs": [],
   "source": [
    "r2=r1.search(\"123 abccd python abccdcde \")"
   ]
  },
  {
   "cell_type": "code",
   "execution_count": null,
   "metadata": {},
   "outputs": [],
   "source": [
    "type(r2)"
   ]
  },
  {
   "cell_type": "code",
   "execution_count": null,
   "metadata": {},
   "outputs": [],
   "source": [
    "print(r2)"
   ]
  },
  {
   "cell_type": "code",
   "execution_count": null,
   "metadata": {},
   "outputs": [],
   "source": [
    "r2.groups()"
   ]
  },
  {
   "cell_type": "code",
   "execution_count": null,
   "metadata": {},
   "outputs": [],
   "source": [
    "r2.group(0)"
   ]
  },
  {
   "cell_type": "code",
   "execution_count": null,
   "metadata": {},
   "outputs": [],
   "source": [
    "r2.group(1)"
   ]
  },
  {
   "cell_type": "code",
   "execution_count": null,
   "metadata": {},
   "outputs": [],
   "source": [
    "r2.group(2)"
   ]
  },
  {
   "cell_type": "code",
   "execution_count": null,
   "metadata": {},
   "outputs": [],
   "source": [
    "r2.group(3)"
   ]
  },
  {
   "cell_type": "code",
   "execution_count": null,
   "metadata": {},
   "outputs": [],
   "source": [
    "r2.group(4)"
   ]
  },
  {
   "cell_type": "code",
   "execution_count": null,
   "metadata": {},
   "outputs": [],
   "source": [
    "r2.groups()"
   ]
  },
  {
   "cell_type": "code",
   "execution_count": null,
   "metadata": {},
   "outputs": [],
   "source": [
    "p1=re.compile(\"\\d+\")"
   ]
  },
  {
   "cell_type": "code",
   "execution_count": null,
   "metadata": {},
   "outputs": [],
   "source": [
    "rg=re.findall(p1,\"123 welcome 321 to 456 python 654\")"
   ]
  },
  {
   "cell_type": "code",
   "execution_count": null,
   "metadata": {},
   "outputs": [],
   "source": [
    "print(rg)"
   ]
  },
  {
   "cell_type": "code",
   "execution_count": null,
   "metadata": {},
   "outputs": [],
   "source": [
    "print(help(re.fullmatch))"
   ]
  },
  {
   "cell_type": "code",
   "execution_count": null,
   "metadata": {},
   "outputs": [],
   "source": [
    "import re"
   ]
  },
  {
   "cell_type": "code",
   "execution_count": null,
   "metadata": {},
   "outputs": [],
   "source": [
    "str1=input()\n",
    "if re.search('[0-9]+',str1):\n",
    "    print('M')\n",
    "else:\n",
    "    print('NM')"
   ]
  },
  {
   "cell_type": "code",
   "execution_count": null,
   "metadata": {},
   "outputs": [],
   "source": [
    "str1=input()\n",
    "if re.search('^[0-9]+$',str1):\n",
    "    print('M')\n",
    "else:\n",
    "    print('NM')"
   ]
  },
  {
   "cell_type": "code",
   "execution_count": null,
   "metadata": {},
   "outputs": [],
   "source": [
    "str1=input()\n",
    "if re.fullmatch('[0-9]+',str1):\n",
    "    print('M')\n",
    "else:\n",
    "    print('NM')"
   ]
  },
  {
   "cell_type": "code",
   "execution_count": null,
   "metadata": {},
   "outputs": [],
   "source": [
    "print(re.fullmatch('[0-9]+',\"1235565\"))"
   ]
  },
  {
   "cell_type": "code",
   "execution_count": null,
   "metadata": {},
   "outputs": [],
   "source": [
    "help(re.escape)"
   ]
  },
  {
   "cell_type": "code",
   "execution_count": null,
   "metadata": {},
   "outputs": [],
   "source": [
    "print(re.escape(\"python.org\"))"
   ]
  },
  {
   "cell_type": "code",
   "execution_count": null,
   "metadata": {},
   "outputs": [],
   "source": [
    "str1=input()\n",
    "if re.search(\"python.org\",str1):\n",
    "    print(\"M\")\n",
    "else:\n",
    "    print(\"NM\")    "
   ]
  },
  {
   "cell_type": "code",
   "execution_count": null,
   "metadata": {},
   "outputs": [],
   "source": [
    "str1=input()\n",
    "if re.search(\"python\\.org\",str1):\n",
    "    print(\"M\")\n",
    "else:\n",
    "    print(\"NM\")    "
   ]
  },
  {
   "cell_type": "code",
   "execution_count": null,
   "metadata": {},
   "outputs": [],
   "source": [
    "str1=input()\n",
    "if re.search(re.escape(\"python.org\"),str1):\n",
    "    print(\"M\")\n",
    "else:\n",
    "    print(\"NM\")  "
   ]
  },
  {
   "cell_type": "code",
   "execution_count": null,
   "metadata": {},
   "outputs": [],
   "source": [
    "import re\n",
    "import urllib\n",
    "html = urllib.request('https://en.wikipedia.org//wiki//Mumbai')\n",
    "pattern = \"bombay\"\n",
    "regex = re.compile(pattern, re.IGNORECASE)\n",
    "for match in regex.finditer(html):\n",
    "    print (\"%s: %s\" % (match.start(), match.group(0)))"
   ]
  },
  {
   "cell_type": "code",
   "execution_count": null,
   "metadata": {},
   "outputs": [],
   "source": [
    "fobj1=open(\"E:\\\\pyfiles\\\\file1345.txt\")"
   ]
  },
  {
   "cell_type": "code",
   "execution_count": null,
   "metadata": {},
   "outputs": [],
   "source": [
    "filename=\"E:\\pyfiles\\students.txt\"\n",
    "course=input()"
   ]
  },
  {
   "cell_type": "code",
   "execution_count": null,
   "metadata": {},
   "outputs": [],
   "source": [
    "#course wise students list\n",
    "import re\n",
    "filename=\"E:\\pyfiles\\students.txt\"\n",
    "course=input().replace(\" \",\"\")\n",
    "try:\n",
    "    fobj1=open(filename)\n",
    "except(FileNotFoundError):\n",
    "    print(\"Given file is not existed at\",filename)\n",
    "else:\n",
    "    for i in fobj1:\n",
    "        if re.fullmatch(re.escape(course),i.split(\",\")[2].replace(\" \",\"\"),re.I):\n",
    "            print(i)"
   ]
  },
  {
   "cell_type": "code",
   "execution_count": null,
   "metadata": {},
   "outputs": [],
   "source": [
    "#course revenue\n",
    "import re\n",
    "filename=\"E:\\pyfiles\\students.txt\"\n",
    "course=input().replace(\" \",\"\")\n",
    "totalcourserev=0\n",
    "try:\n",
    "    fobj1=open(filename)\n",
    "except(FileNotFoundError):\n",
    "    print(\"Given file is not existed at\",filename)\n",
    "else:\n",
    "    for i in fobj1:\n",
    "        if re.fullmatch(re.escape(course),i.split(\",\")[2].replace(\" \",\"\"),re.I):\n",
    "            totalcourserev+=int(i.split(\",\")[3])\n",
    "    print(totalcourserev)"
   ]
  },
  {
   "cell_type": "code",
   "execution_count": null,
   "metadata": {},
   "outputs": [],
   "source": [
    "#total summary\n",
    "import re\n",
    "filename=\"E:\\pyfiles\\students.txt\"\n",
    "course=input().replace(\" \",\"\")\n",
    "totalcourserev=0\n",
    "try:\n",
    "    fobj1=open(filename)\n",
    "except(FileNotFoundError):\n",
    "    print(\"Given file is not existed at\",filename)\n",
    "else:\n",
    "    for i in fobj1:\n",
    "        if re.fullmatch(re.escape(course),i.split(\",\")[2].replace(\" \",\"\"),re.I):\n",
    "            totalcourserev+=int(i.split(\",\")[3])\n",
    "    print(totalcourserev)"
   ]
  },
  {
   "cell_type": "code",
   "execution_count": null,
   "metadata": {},
   "outputs": [],
   "source": [
    "python = 4\n",
    "java = 3\n",
    "java script = 2"
   ]
  },
  {
   "cell_type": "code",
   "execution_count": null,
   "metadata": {},
   "outputs": [],
   "source": [
    "def f1():\n",
    "    print(\"welcome\")"
   ]
  },
  {
   "cell_type": "code",
   "execution_count": null,
   "metadata": {},
   "outputs": [],
   "source": [
    "f1()"
   ]
  },
  {
   "cell_type": "code",
   "execution_count": null,
   "metadata": {},
   "outputs": [],
   "source": []
  }
 ],
 "metadata": {
  "celltoolbar": "Raw Cell Format",
  "kernelspec": {
   "display_name": "Python 3",
   "language": "python",
   "name": "python3"
  },
  "language_info": {
   "codemirror_mode": {
    "name": "ipython",
    "version": 3
   },
   "file_extension": ".py",
   "mimetype": "text/x-python",
   "name": "python",
   "nbconvert_exporter": "python",
   "pygments_lexer": "ipython3",
   "version": "3.7.3"
  }
 },
 "nbformat": 4,
 "nbformat_minor": 1
}
